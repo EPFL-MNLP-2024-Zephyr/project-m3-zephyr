{
 "cells": [
  {
   "cell_type": "code",
   "outputs": [],
   "source": [
    "import jsonlines\n",
    "import json\n",
    "import random\n",
    "import pandas as pd\n",
    "from datasets import load_dataset"
   ],
   "metadata": {
    "collapsed": false,
    "ExecuteTime": {
     "end_time": "2024-06-01T21:19:13.590070Z",
     "start_time": "2024-06-01T21:19:12.191449Z"
    }
   },
   "id": "8638f689ac3b2641",
   "execution_count": 1
  },
  {
   "cell_type": "markdown",
   "source": [
    "# ARC: [https://huggingface.co/datasets/allenai/ai2_arc](https://huggingface.co/datasets/allenai/ai2_arc)"
   ],
   "metadata": {
    "collapsed": false
   },
   "id": "6206300ecbd11538"
  },
  {
   "cell_type": "code",
   "outputs": [],
   "source": [
    "arc_c = load_dataset(\"allenai/ai2_arc\", \"ARC-Challenge\", split=\"train\")\n",
    "arc_e = load_dataset(\"allenai/ai2_arc\", \"ARC-Easy\", split=\"train\")\n",
    "df_arc_c = pd.DataFrame(arc_c) \n",
    "df_arc_e = pd.DataFrame(arc_e)"
   ],
   "metadata": {
    "collapsed": true,
    "ExecuteTime": {
     "end_time": "2024-06-01T21:19:30.678146Z",
     "start_time": "2024-06-01T21:19:13.591958Z"
    }
   },
   "id": "initial_id",
   "execution_count": 2
  },
  {
   "cell_type": "code",
   "outputs": [
    {
     "data": {
      "text/plain": "                     id                                           question  \\\n0     Mercury_SC_415702  George wants to warm his hands quickly by rubb...   \n1      MCAS_2009_5_6516  Which of the following statements best explain...   \n2       Mercury_7233695  A fold observed in layers of sedimentary rock ...   \n3       Mercury_7041615  Which of these do scientists offer as the most...   \n4       Mercury_7041860  A boat is acted on by a river current flowing ...   \n...                 ...                                                ...   \n1114  Mercury_SC_415480  Which change would most likely increase the nu...   \n1115    Mercury_7172795  The skin is the largest organ in the human bod...   \n1116   NCEOGA_2013_8_59  Which food provides the most energy for the bo...   \n1117    Mercury_7219643  Screech owls have two color variations-red and...   \n1118  Mercury_SC_412487  A scientist is measuring the amount of movemen...   \n\n                                                choices answerKey  \n0     {'text': ['dry palms', 'wet palms', 'palms cov...         A  \n1     {'text': ['The refrigerator door is smooth.', ...         B  \n2     {'text': ['cooling of flowing magma.', 'conver...         B  \n3     {'text': ['worldwide disease', 'global mountai...         D  \n4     {'text': ['west', 'east', 'north', 'south'], '...         B  \n...                                                 ...       ...  \n1114  {'text': ['flood', 'drought', 'fire', 'landsli...         A  \n1115  {'text': ['It is made of cells.', 'It acts as ...         C  \n1116  {'text': ['potato', 'meat', 'milk', 'fruit'], ...         D  \n1117  {'text': ['nesting', 'feeding', 'reproduction'...         D  \n1118  {'text': ['barometer', 'stopwatch', 'meter sti...         C  \n\n[1119 rows x 4 columns]",
      "text/html": "<div>\n<style scoped>\n    .dataframe tbody tr th:only-of-type {\n        vertical-align: middle;\n    }\n\n    .dataframe tbody tr th {\n        vertical-align: top;\n    }\n\n    .dataframe thead th {\n        text-align: right;\n    }\n</style>\n<table border=\"1\" class=\"dataframe\">\n  <thead>\n    <tr style=\"text-align: right;\">\n      <th></th>\n      <th>id</th>\n      <th>question</th>\n      <th>choices</th>\n      <th>answerKey</th>\n    </tr>\n  </thead>\n  <tbody>\n    <tr>\n      <th>0</th>\n      <td>Mercury_SC_415702</td>\n      <td>George wants to warm his hands quickly by rubb...</td>\n      <td>{'text': ['dry palms', 'wet palms', 'palms cov...</td>\n      <td>A</td>\n    </tr>\n    <tr>\n      <th>1</th>\n      <td>MCAS_2009_5_6516</td>\n      <td>Which of the following statements best explain...</td>\n      <td>{'text': ['The refrigerator door is smooth.', ...</td>\n      <td>B</td>\n    </tr>\n    <tr>\n      <th>2</th>\n      <td>Mercury_7233695</td>\n      <td>A fold observed in layers of sedimentary rock ...</td>\n      <td>{'text': ['cooling of flowing magma.', 'conver...</td>\n      <td>B</td>\n    </tr>\n    <tr>\n      <th>3</th>\n      <td>Mercury_7041615</td>\n      <td>Which of these do scientists offer as the most...</td>\n      <td>{'text': ['worldwide disease', 'global mountai...</td>\n      <td>D</td>\n    </tr>\n    <tr>\n      <th>4</th>\n      <td>Mercury_7041860</td>\n      <td>A boat is acted on by a river current flowing ...</td>\n      <td>{'text': ['west', 'east', 'north', 'south'], '...</td>\n      <td>B</td>\n    </tr>\n    <tr>\n      <th>...</th>\n      <td>...</td>\n      <td>...</td>\n      <td>...</td>\n      <td>...</td>\n    </tr>\n    <tr>\n      <th>1114</th>\n      <td>Mercury_SC_415480</td>\n      <td>Which change would most likely increase the nu...</td>\n      <td>{'text': ['flood', 'drought', 'fire', 'landsli...</td>\n      <td>A</td>\n    </tr>\n    <tr>\n      <th>1115</th>\n      <td>Mercury_7172795</td>\n      <td>The skin is the largest organ in the human bod...</td>\n      <td>{'text': ['It is made of cells.', 'It acts as ...</td>\n      <td>C</td>\n    </tr>\n    <tr>\n      <th>1116</th>\n      <td>NCEOGA_2013_8_59</td>\n      <td>Which food provides the most energy for the bo...</td>\n      <td>{'text': ['potato', 'meat', 'milk', 'fruit'], ...</td>\n      <td>D</td>\n    </tr>\n    <tr>\n      <th>1117</th>\n      <td>Mercury_7219643</td>\n      <td>Screech owls have two color variations-red and...</td>\n      <td>{'text': ['nesting', 'feeding', 'reproduction'...</td>\n      <td>D</td>\n    </tr>\n    <tr>\n      <th>1118</th>\n      <td>Mercury_SC_412487</td>\n      <td>A scientist is measuring the amount of movemen...</td>\n      <td>{'text': ['barometer', 'stopwatch', 'meter sti...</td>\n      <td>C</td>\n    </tr>\n  </tbody>\n</table>\n<p>1119 rows × 4 columns</p>\n</div>"
     },
     "execution_count": 3,
     "metadata": {},
     "output_type": "execute_result"
    }
   ],
   "source": [
    "df_arc_c "
   ],
   "metadata": {
    "collapsed": false,
    "ExecuteTime": {
     "end_time": "2024-06-01T21:19:30.708764Z",
     "start_time": "2024-06-01T21:19:30.680767Z"
    }
   },
   "id": "71394d7d43b1112b",
   "execution_count": 3
  },
  {
   "cell_type": "code",
   "outputs": [
    {
     "data": {
      "text/plain": "                          id  \\\n0            Mercury_7220990   \n1           MCAS_2007_8_5189   \n2          Mercury_SC_401169   \n3             MCAS_2004_8_27   \n4     NYSEDREGENTS_2006_8_10   \n...                      ...   \n2246     CSZ_2009_8_CSZ20770   \n2247         Mercury_7181318   \n2248         Mercury_7010080   \n2249        NCEOGA_2013_8_37   \n2250         Mercury_7188563   \n\n                                               question  \\\n0     Which factor will most likely cause a person t...   \n1     Lichens are symbiotic organisms made of green ...   \n2     When a switch is used in an electrical circuit...   \n3     Which of the following is an example of an ass...   \n4     Rocks are classified as igneous, metamorphic, ...   \n...                                                 ...   \n2246  Iron oxides, such as rust, form when iron meta...   \n2247  When water evaporates from Earth's surface int...   \n2248  Which process directly adds carbon into the at...   \n2249  Scientists think that dolphins and whales may ...   \n2250  A particular organism is able to survive in an...   \n\n                                                choices answerKey  \n0     {'text': ['a leg muscle relaxing after exercis...         B  \n1     {'text': ['carbon dioxide', 'food', 'protectio...         B  \n2     {'text': ['cause the charge to build.', 'incre...         D  \n3     {'text': ['contact lens', 'motorcycle', 'rainc...         A  \n4     {'text': ['their color', 'their shape', 'how t...         3  \n...                                                 ...       ...  \n2246  {'text': ['I and O', 'Ir and O', 'Fe and O', '...         C  \n2247  {'text': ['The mass is reduced.', 'The volume ...         C  \n2248  {'text': ['increasing plant populations', 'dec...         C  \n2249  {'text': ['They swim the same way.', 'They eat...         D  \n2250  {'text': ['swimming in arctic waters', 'eating...         A  \n\n[2251 rows x 4 columns]",
      "text/html": "<div>\n<style scoped>\n    .dataframe tbody tr th:only-of-type {\n        vertical-align: middle;\n    }\n\n    .dataframe tbody tr th {\n        vertical-align: top;\n    }\n\n    .dataframe thead th {\n        text-align: right;\n    }\n</style>\n<table border=\"1\" class=\"dataframe\">\n  <thead>\n    <tr style=\"text-align: right;\">\n      <th></th>\n      <th>id</th>\n      <th>question</th>\n      <th>choices</th>\n      <th>answerKey</th>\n    </tr>\n  </thead>\n  <tbody>\n    <tr>\n      <th>0</th>\n      <td>Mercury_7220990</td>\n      <td>Which factor will most likely cause a person t...</td>\n      <td>{'text': ['a leg muscle relaxing after exercis...</td>\n      <td>B</td>\n    </tr>\n    <tr>\n      <th>1</th>\n      <td>MCAS_2007_8_5189</td>\n      <td>Lichens are symbiotic organisms made of green ...</td>\n      <td>{'text': ['carbon dioxide', 'food', 'protectio...</td>\n      <td>B</td>\n    </tr>\n    <tr>\n      <th>2</th>\n      <td>Mercury_SC_401169</td>\n      <td>When a switch is used in an electrical circuit...</td>\n      <td>{'text': ['cause the charge to build.', 'incre...</td>\n      <td>D</td>\n    </tr>\n    <tr>\n      <th>3</th>\n      <td>MCAS_2004_8_27</td>\n      <td>Which of the following is an example of an ass...</td>\n      <td>{'text': ['contact lens', 'motorcycle', 'rainc...</td>\n      <td>A</td>\n    </tr>\n    <tr>\n      <th>4</th>\n      <td>NYSEDREGENTS_2006_8_10</td>\n      <td>Rocks are classified as igneous, metamorphic, ...</td>\n      <td>{'text': ['their color', 'their shape', 'how t...</td>\n      <td>3</td>\n    </tr>\n    <tr>\n      <th>...</th>\n      <td>...</td>\n      <td>...</td>\n      <td>...</td>\n      <td>...</td>\n    </tr>\n    <tr>\n      <th>2246</th>\n      <td>CSZ_2009_8_CSZ20770</td>\n      <td>Iron oxides, such as rust, form when iron meta...</td>\n      <td>{'text': ['I and O', 'Ir and O', 'Fe and O', '...</td>\n      <td>C</td>\n    </tr>\n    <tr>\n      <th>2247</th>\n      <td>Mercury_7181318</td>\n      <td>When water evaporates from Earth's surface int...</td>\n      <td>{'text': ['The mass is reduced.', 'The volume ...</td>\n      <td>C</td>\n    </tr>\n    <tr>\n      <th>2248</th>\n      <td>Mercury_7010080</td>\n      <td>Which process directly adds carbon into the at...</td>\n      <td>{'text': ['increasing plant populations', 'dec...</td>\n      <td>C</td>\n    </tr>\n    <tr>\n      <th>2249</th>\n      <td>NCEOGA_2013_8_37</td>\n      <td>Scientists think that dolphins and whales may ...</td>\n      <td>{'text': ['They swim the same way.', 'They eat...</td>\n      <td>D</td>\n    </tr>\n    <tr>\n      <th>2250</th>\n      <td>Mercury_7188563</td>\n      <td>A particular organism is able to survive in an...</td>\n      <td>{'text': ['swimming in arctic waters', 'eating...</td>\n      <td>A</td>\n    </tr>\n  </tbody>\n</table>\n<p>2251 rows × 4 columns</p>\n</div>"
     },
     "execution_count": 4,
     "metadata": {},
     "output_type": "execute_result"
    }
   ],
   "source": [
    "df_arc_e"
   ],
   "metadata": {
    "collapsed": false,
    "ExecuteTime": {
     "end_time": "2024-06-01T21:19:30.740803Z",
     "start_time": "2024-06-01T21:19:30.710765Z"
    }
   },
   "id": "d8240b32c01d3c51",
   "execution_count": 4
  },
  {
   "cell_type": "code",
   "outputs": [
    {
     "data": {
      "text/plain": "{'id': 'Mercury_SC_415702',\n 'question': 'George wants to warm his hands quickly by rubbing them. Which skin surface will produce the most heat?',\n 'choices': {'text': ['dry palms',\n   'wet palms',\n   'palms covered with oil',\n   'palms covered with lotion'],\n  'label': ['A', 'B', 'C', 'D']},\n 'answerKey': 'A'}"
     },
     "execution_count": 5,
     "metadata": {},
     "output_type": "execute_result"
    }
   ],
   "source": [
    "arc_c[0]"
   ],
   "metadata": {
    "collapsed": false,
    "ExecuteTime": {
     "end_time": "2024-06-01T21:19:30.756773Z",
     "start_time": "2024-06-01T21:19:30.743770Z"
    }
   },
   "id": "ba7dc63046909226",
   "execution_count": 5
  },
  {
   "cell_type": "code",
   "outputs": [
    {
     "name": "stdout",
     "output_type": "stream",
     "text": [
      "George wants to warm his hands quickly by rubbing them. Which skin surface will produce the most heat?\n",
      "Options:\n",
      "A) dry palms\n",
      "B) wet palms\n",
      "C) palms covered with oil\n",
      "D) palms covered with lotion\n"
     ]
    }
   ],
   "source": [
    "print(arc_c[0]['question']+ \"\\n\" + \n",
    "      \"Options:\\n\" + \n",
    "      arc_c[0]['choices']['label'][0] + \") \" + arc_c[0]['choices']['text'][0]\n",
    "        + \"\\n\" + arc_c[0]['choices']['label'][1] + \") \" + arc_c[0]['choices']['text'][1]\n",
    "        + \"\\n\" + arc_c[0]['choices']['label'][2] + \") \" + arc_c[0]['choices']['text'][2]\n",
    "        + \"\\n\" + arc_c[0]['choices']['label'][3] + \") \" + arc_c[0]['choices']['text'][3])"
   ],
   "metadata": {
    "collapsed": false,
    "ExecuteTime": {
     "end_time": "2024-06-01T21:19:30.772766Z",
     "start_time": "2024-06-01T21:19:30.759766Z"
    }
   },
   "id": "42937782cd5dfbc4",
   "execution_count": 6
  },
  {
   "cell_type": "code",
   "outputs": [],
   "source": [
    "def process_arc(dataset):\n",
    "    data= []\n",
    "    for d in dataset: \n",
    "        question = d['question'] + \"\\n\" + \"Options:\\n\"\n",
    "        for i in range(len(d['choices']['label'])):\n",
    "            question += d['choices']['label'][i] + \") \" + d['choices']['text'][i] + \"\\n\"\n",
    "        data.append({\n",
    "            \"question\": question,\n",
    "            \"answer\": d['answerKey']\n",
    "        })\n",
    "    return data"
   ],
   "metadata": {
    "collapsed": false,
    "ExecuteTime": {
     "end_time": "2024-06-01T21:19:30.788766Z",
     "start_time": "2024-06-01T21:19:30.774767Z"
    }
   },
   "id": "d848f17b4bbdaba1",
   "execution_count": 7
  },
  {
   "cell_type": "code",
   "outputs": [],
   "source": [
    "arc_c_data = process_arc(arc_c)\n",
    "arc_e_data = process_arc(arc_e)\n",
    "df_arc_c = pd.DataFrame(arc_c_data)\n",
    "df_arc_e = pd.DataFrame(arc_e_data)"
   ],
   "metadata": {
    "collapsed": false,
    "ExecuteTime": {
     "end_time": "2024-06-01T21:19:31.082820Z",
     "start_time": "2024-06-01T21:19:30.790767Z"
    }
   },
   "id": "ba8c31471aef8d50",
   "execution_count": 8
  },
  {
   "cell_type": "code",
   "outputs": [
    {
     "data": {
      "text/plain": "                                               question answer\n0     George wants to warm his hands quickly by rubb...      A\n1     Which of the following statements best explain...      B\n2     A fold observed in layers of sedimentary rock ...      B\n3     Which of these do scientists offer as the most...      D\n4     A boat is acted on by a river current flowing ...      B\n...                                                 ...    ...\n1114  Which change would most likely increase the nu...      A\n1115  The skin is the largest organ in the human bod...      C\n1116  Which food provides the most energy for the bo...      D\n1117  Screech owls have two color variations-red and...      D\n1118  A scientist is measuring the amount of movemen...      C\n\n[1119 rows x 2 columns]",
      "text/html": "<div>\n<style scoped>\n    .dataframe tbody tr th:only-of-type {\n        vertical-align: middle;\n    }\n\n    .dataframe tbody tr th {\n        vertical-align: top;\n    }\n\n    .dataframe thead th {\n        text-align: right;\n    }\n</style>\n<table border=\"1\" class=\"dataframe\">\n  <thead>\n    <tr style=\"text-align: right;\">\n      <th></th>\n      <th>question</th>\n      <th>answer</th>\n    </tr>\n  </thead>\n  <tbody>\n    <tr>\n      <th>0</th>\n      <td>George wants to warm his hands quickly by rubb...</td>\n      <td>A</td>\n    </tr>\n    <tr>\n      <th>1</th>\n      <td>Which of the following statements best explain...</td>\n      <td>B</td>\n    </tr>\n    <tr>\n      <th>2</th>\n      <td>A fold observed in layers of sedimentary rock ...</td>\n      <td>B</td>\n    </tr>\n    <tr>\n      <th>3</th>\n      <td>Which of these do scientists offer as the most...</td>\n      <td>D</td>\n    </tr>\n    <tr>\n      <th>4</th>\n      <td>A boat is acted on by a river current flowing ...</td>\n      <td>B</td>\n    </tr>\n    <tr>\n      <th>...</th>\n      <td>...</td>\n      <td>...</td>\n    </tr>\n    <tr>\n      <th>1114</th>\n      <td>Which change would most likely increase the nu...</td>\n      <td>A</td>\n    </tr>\n    <tr>\n      <th>1115</th>\n      <td>The skin is the largest organ in the human bod...</td>\n      <td>C</td>\n    </tr>\n    <tr>\n      <th>1116</th>\n      <td>Which food provides the most energy for the bo...</td>\n      <td>D</td>\n    </tr>\n    <tr>\n      <th>1117</th>\n      <td>Screech owls have two color variations-red and...</td>\n      <td>D</td>\n    </tr>\n    <tr>\n      <th>1118</th>\n      <td>A scientist is measuring the amount of movemen...</td>\n      <td>C</td>\n    </tr>\n  </tbody>\n</table>\n<p>1119 rows × 2 columns</p>\n</div>"
     },
     "execution_count": 9,
     "metadata": {},
     "output_type": "execute_result"
    }
   ],
   "source": [
    "df_arc_c"
   ],
   "metadata": {
    "collapsed": false,
    "ExecuteTime": {
     "end_time": "2024-06-01T21:19:31.098767Z",
     "start_time": "2024-06-01T21:19:31.084765Z"
    }
   },
   "id": "e5d07472b14e8614",
   "execution_count": 9
  },
  {
   "cell_type": "code",
   "outputs": [
    {
     "data": {
      "text/plain": "                                               question answer\n0     Which factor will most likely cause a person t...      B\n1     Lichens are symbiotic organisms made of green ...      B\n2     When a switch is used in an electrical circuit...      D\n3     Which of the following is an example of an ass...      A\n4     Rocks are classified as igneous, metamorphic, ...      3\n...                                                 ...    ...\n2246  Iron oxides, such as rust, form when iron meta...      C\n2247  When water evaporates from Earth's surface int...      C\n2248  Which process directly adds carbon into the at...      C\n2249  Scientists think that dolphins and whales may ...      D\n2250  A particular organism is able to survive in an...      A\n\n[2251 rows x 2 columns]",
      "text/html": "<div>\n<style scoped>\n    .dataframe tbody tr th:only-of-type {\n        vertical-align: middle;\n    }\n\n    .dataframe tbody tr th {\n        vertical-align: top;\n    }\n\n    .dataframe thead th {\n        text-align: right;\n    }\n</style>\n<table border=\"1\" class=\"dataframe\">\n  <thead>\n    <tr style=\"text-align: right;\">\n      <th></th>\n      <th>question</th>\n      <th>answer</th>\n    </tr>\n  </thead>\n  <tbody>\n    <tr>\n      <th>0</th>\n      <td>Which factor will most likely cause a person t...</td>\n      <td>B</td>\n    </tr>\n    <tr>\n      <th>1</th>\n      <td>Lichens are symbiotic organisms made of green ...</td>\n      <td>B</td>\n    </tr>\n    <tr>\n      <th>2</th>\n      <td>When a switch is used in an electrical circuit...</td>\n      <td>D</td>\n    </tr>\n    <tr>\n      <th>3</th>\n      <td>Which of the following is an example of an ass...</td>\n      <td>A</td>\n    </tr>\n    <tr>\n      <th>4</th>\n      <td>Rocks are classified as igneous, metamorphic, ...</td>\n      <td>3</td>\n    </tr>\n    <tr>\n      <th>...</th>\n      <td>...</td>\n      <td>...</td>\n    </tr>\n    <tr>\n      <th>2246</th>\n      <td>Iron oxides, such as rust, form when iron meta...</td>\n      <td>C</td>\n    </tr>\n    <tr>\n      <th>2247</th>\n      <td>When water evaporates from Earth's surface int...</td>\n      <td>C</td>\n    </tr>\n    <tr>\n      <th>2248</th>\n      <td>Which process directly adds carbon into the at...</td>\n      <td>C</td>\n    </tr>\n    <tr>\n      <th>2249</th>\n      <td>Scientists think that dolphins and whales may ...</td>\n      <td>D</td>\n    </tr>\n    <tr>\n      <th>2250</th>\n      <td>A particular organism is able to survive in an...</td>\n      <td>A</td>\n    </tr>\n  </tbody>\n</table>\n<p>2251 rows × 2 columns</p>\n</div>"
     },
     "execution_count": 10,
     "metadata": {},
     "output_type": "execute_result"
    }
   ],
   "source": [
    "df_arc_e"
   ],
   "metadata": {
    "collapsed": false,
    "ExecuteTime": {
     "end_time": "2024-06-01T21:19:31.114807Z",
     "start_time": "2024-06-01T21:19:31.100767Z"
    }
   },
   "id": "ad3594a6877aa421",
   "execution_count": 10
  },
  {
   "cell_type": "code",
   "outputs": [],
   "source": [
    "with jsonlines.open(\"arc_challenge.jsonl\", \"w\") as f:\n",
    "    f.write_all(arc_c_data)\n",
    "    \n",
    "with jsonlines.open(\"arc_easy.jsonl\", \"w\") as f:\n",
    "    f.write_all(arc_e_data)"
   ],
   "metadata": {
    "collapsed": false,
    "ExecuteTime": {
     "end_time": "2024-06-01T21:19:31.161799Z",
     "start_time": "2024-06-01T21:19:31.117766Z"
    }
   },
   "id": "29cf45e744a80433",
   "execution_count": 11
  },
  {
   "cell_type": "code",
   "outputs": [],
   "source": [
    "full_arc = arc_c_data + arc_e_data\n",
    "random.shuffle(full_arc)\n",
    "with jsonlines.open(\"arc.jsonl\", \"w\") as f:\n",
    "    f.write_all(full_arc)"
   ],
   "metadata": {
    "collapsed": false,
    "ExecuteTime": {
     "end_time": "2024-06-01T21:19:31.207798Z",
     "start_time": "2024-06-01T21:19:31.163768Z"
    }
   },
   "id": "3e79d41680563a7f",
   "execution_count": 12
  },
  {
   "cell_type": "markdown",
   "source": [
    "# MMLU [https://huggingface.co/datasets/cais/mmlu](https://huggingface.co/datasets/cais/mmlu)"
   ],
   "metadata": {
    "collapsed": false
   },
   "id": "8d4e8e7865128088"
  },
  {
   "cell_type": "code",
   "outputs": [],
   "source": [
    "mmlu = load_dataset(\"cais/mmlu\", 'auxiliary_train', split=\"train\")"
   ],
   "metadata": {
    "collapsed": false,
    "ExecuteTime": {
     "end_time": "2024-06-01T21:19:38.402315Z",
     "start_time": "2024-06-01T21:19:31.209764Z"
    }
   },
   "id": "85aa92862f357ee5",
   "execution_count": 13
  },
  {
   "cell_type": "code",
   "outputs": [
    {
     "data": {
      "text/plain": "                                               train\n0  {'answer': 1, 'choices': ['Adams only.', 'Broo...\n1  {'answer': 3, 'choices': ['guilty, because thi...\n2  {'answer': 2, 'choices': ['Yes, because Mann t...\n3  {'answer': 1, 'choices': ['must permit Don to ...\n4  {'answer': 2, 'choices': ['partial breach of c...",
      "text/html": "<div>\n<style scoped>\n    .dataframe tbody tr th:only-of-type {\n        vertical-align: middle;\n    }\n\n    .dataframe tbody tr th {\n        vertical-align: top;\n    }\n\n    .dataframe thead th {\n        text-align: right;\n    }\n</style>\n<table border=\"1\" class=\"dataframe\">\n  <thead>\n    <tr style=\"text-align: right;\">\n      <th></th>\n      <th>train</th>\n    </tr>\n  </thead>\n  <tbody>\n    <tr>\n      <th>0</th>\n      <td>{'answer': 1, 'choices': ['Adams only.', 'Broo...</td>\n    </tr>\n    <tr>\n      <th>1</th>\n      <td>{'answer': 3, 'choices': ['guilty, because thi...</td>\n    </tr>\n    <tr>\n      <th>2</th>\n      <td>{'answer': 2, 'choices': ['Yes, because Mann t...</td>\n    </tr>\n    <tr>\n      <th>3</th>\n      <td>{'answer': 1, 'choices': ['must permit Don to ...</td>\n    </tr>\n    <tr>\n      <th>4</th>\n      <td>{'answer': 2, 'choices': ['partial breach of c...</td>\n    </tr>\n  </tbody>\n</table>\n</div>"
     },
     "execution_count": 14,
     "metadata": {},
     "output_type": "execute_result"
    }
   ],
   "source": [
    "df_mmlu = pd.DataFrame(mmlu)\n",
    "df_mmlu.head()"
   ],
   "metadata": {
    "collapsed": false,
    "ExecuteTime": {
     "end_time": "2024-06-01T21:19:43.770992Z",
     "start_time": "2024-06-01T21:19:38.406317Z"
    }
   },
   "id": "d9265f13be476069",
   "execution_count": 14
  },
  {
   "cell_type": "code",
   "outputs": [],
   "source": [
    "def process_mmlu(dataset): \n",
    "    data = []\n",
    "    for d in dataset: \n",
    "        question = d['question'] + \"\\n\" + \"Options:\\n\"\n",
    "        for i in range(1, len(d['choices'])+1):\n",
    "            question += f\"{i}) \" + d['choices'][i-1] + \"\\n\"\n",
    "        data.append({\n",
    "            \"question\": question,\n",
    "            \"answer\": d['answer']\n",
    "        })\n",
    "    return data"
   ],
   "metadata": {
    "collapsed": false,
    "ExecuteTime": {
     "end_time": "2024-06-01T21:19:43.785993Z",
     "start_time": "2024-06-01T21:19:43.771959Z"
    }
   },
   "id": "dc6a6d45d50af152",
   "execution_count": 15
  },
  {
   "cell_type": "code",
   "outputs": [],
   "source": [
    "mmlu_data = process_mmlu(mmlu['train'])"
   ],
   "metadata": {
    "collapsed": false,
    "ExecuteTime": {
     "end_time": "2024-06-01T21:19:46.421307Z",
     "start_time": "2024-06-01T21:19:43.787960Z"
    }
   },
   "id": "3916c45b616dc668",
   "execution_count": 16
  },
  {
   "cell_type": "markdown",
   "source": [
    "# Merge all datasets"
   ],
   "metadata": {
    "collapsed": false
   },
   "id": "8405d9633fc1028"
  },
  {
   "cell_type": "code",
   "outputs": [
    {
     "data": {
      "text/plain": "103212"
     },
     "execution_count": 17,
     "metadata": {},
     "output_type": "execute_result"
    }
   ],
   "source": [
    "full_data = full_arc + mmlu_data\n",
    "len(full_data)"
   ],
   "metadata": {
    "collapsed": false,
    "ExecuteTime": {
     "end_time": "2024-06-01T21:20:41.030531Z",
     "start_time": "2024-06-01T21:20:41.016531Z"
    }
   },
   "id": "cb917eb78e0d7f3f",
   "execution_count": 17
  },
  {
   "cell_type": "code",
   "outputs": [],
   "source": [
    "random.shuffle(full_data)\n",
    "with jsonlines.open(\"full_data.jsonl\", \"w\") as f:\n",
    "    f.write_all(full_data)"
   ],
   "metadata": {
    "collapsed": false,
    "ExecuteTime": {
     "end_time": "2024-06-01T21:20:49.968113Z",
     "start_time": "2024-06-01T21:20:47.960080Z"
    }
   },
   "id": "bc759255a493cb34",
   "execution_count": 19
  }
 ],
 "metadata": {
  "kernelspec": {
   "display_name": "Python 3",
   "language": "python",
   "name": "python3"
  },
  "language_info": {
   "codemirror_mode": {
    "name": "ipython",
    "version": 2
   },
   "file_extension": ".py",
   "mimetype": "text/x-python",
   "name": "python",
   "nbconvert_exporter": "python",
   "pygments_lexer": "ipython2",
   "version": "2.7.6"
  }
 },
 "nbformat": 4,
 "nbformat_minor": 5
}
