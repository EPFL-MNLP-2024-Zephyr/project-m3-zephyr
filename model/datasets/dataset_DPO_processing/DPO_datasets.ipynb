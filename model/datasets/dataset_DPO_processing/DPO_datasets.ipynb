{
 "cells": [
  {
   "cell_type": "markdown",
   "source": [
    "# 1. Processing Preference Pairs Gathered from M1"
   ],
   "metadata": {
    "collapsed": false
   },
   "id": "f1ec2455a6262953"
  },
  {
   "cell_type": "markdown",
   "source": [
    "Collected data format: \n",
    "```json \n",
    "{\n",
    "    \"question_id\": <int>,\n",
    "    \"question_complete\": <str>,\n",
    "    \"course_id\": <int>,\n",
    "    \"preference\": [\n",
    "        {\n",
    "            \"A\": <str>,\n",
    "            \"B\": <str>,\n",
    "            \"overall\": <str>,\n",
    "            \"criteria\": {\n",
    "                \"overall\": <str>,\n",
    "                \"correctness\": <str>,\n",
    "                \"relevance\": <str>,\n",
    "                \"clarity\": <str>,\n",
    "                \"completeness\": <str>,\n",
    "                \"other\": <str>\n",
    "            }\n",
    "        },\n",
    "        ...\n",
    "    ]\n",
    "}\n",
    "```\n",
    "\n",
    "Processed data format:\n",
    "```json\n",
    "{\n",
    "    \"prompt\": \"...\",\n",
    "    \"chosen\": \"...\", \n",
    "    \"rejected\": \"...\"\n",
    "}\n",
    "```"
   ],
   "metadata": {
    "collapsed": false
   },
   "id": "f3d20e2692b1983a"
  },
  {
   "cell_type": "code",
   "outputs": [],
   "source": [
    "import os\n",
    "import json\n",
    "import jsonlines\n",
    "import pandas as pd\n",
    "from sklearn.model_selection import train_test_split"
   ],
   "metadata": {
    "collapsed": true,
    "ExecuteTime": {
     "end_time": "2024-06-01T12:58:57.207296Z",
     "start_time": "2024-06-01T12:58:57.196295Z"
    }
   },
   "id": "initial_id",
   "execution_count": 6
  },
  {
   "cell_type": "code",
   "outputs": [],
   "source": [
    "def process_preference_pairs(data):\n",
    "    processed_data = []\n",
    "    for d in data:\n",
    "        prompt = d[\"question_complete\"]\n",
    "        for p in d[\"preference\"]:\n",
    "            if p[\"overall\"] == \"A\":\n",
    "                chosen_option = \"A\"\n",
    "                rejected_option = \"B\"\n",
    "            elif p[\"overall\"] == \"B\":\n",
    "                chosen_option = \"B\"\n",
    "                rejected_option = \"A\" \n",
    "            else:  # skip if the overall preference is not A or B e.g. AB \n",
    "                continue\n",
    "                \n",
    "            if p[chosen_option] == \"...\" or p[rejected_option] == \"...\" or p[chosen_option] == \"\" or p[rejected_option] == \"\":\n",
    "                continue\n",
    "            processed_data.append({\n",
    "                \"instruction\": prompt,\n",
    "                \"input\": \"\",\n",
    "                \"chosen\": p[chosen_option],\n",
    "                \"rejected\": p[rejected_option]\n",
    "            })\n",
    "    \n",
    "    return processed_data\n",
    "\n",
    "\n",
    "def load_data(file_path):\n",
    "    with open(file_path, \"r\") as f:\n",
    "        data = json.load(f)\n",
    "    return data\n",
    "\n",
    "\n",
    "def convert_to_jsonl(data, file_path):\n",
    "    with jsonlines.open(file_path, \"w\") as f:\n",
    "        for d in data:\n",
    "            f.write(d)"
   ],
   "metadata": {
    "collapsed": false,
    "ExecuteTime": {
     "end_time": "2024-06-01T12:58:58.373303Z",
     "start_time": "2024-06-01T12:58:58.348299Z"
    }
   },
   "id": "d9828f3517c935f7",
   "execution_count": 7
  },
  {
   "cell_type": "code",
   "outputs": [
    {
     "data": {
      "text/plain": "      question_id                                  question_complete  \\\n0               0  Question: Consider the following contains func...   \n1               3  Question: What is the asymptotic work of <code...   \n2               4  Question: We have a collection of rectangles i...   \n3               5  Question: Which of the following scheduler pol...   \n4               7  Question: In this week's lecture, you have bee...   \n...           ...                                                ...   \n1517         7365  Question: Byzantine consistent broadcast (BCB)...   \n1518         7366  Question: If process i fails, then eventually ...   \n1519         7368  Question: What happens in the reliable broadca...   \n1520         7370  Question: Consider a network that is organized...   \n1521         7371  Question: Consider the transformation from bin...   \n\n      course_id                                         preference  \n0         15000  [{'A': 'The asymptotic depth of the contains f...  \n1         15000  [{'A': '...', 'B': '...', 'overall': 'A', 'cri...  \n2         15000  [{'A': 'Facts:\n- Rectangles in the plane have ...  \n3         15005  [{'A': 'Preemptive scheduling policies allow t...  \n4         15000  [{'A': 'For the computation g(g(1, x1), g(x2, ...  \n...         ...                                                ...  \n1517      15003  [{'A': 'In non-synchronous environments, intro...  \n1518      15003  [{'A': 'Yes, the statement is true. If process...  \n1519      15003  [{'A': 'If the completeness property of the fa...  \n1520      15003  [{'A': 'First, we can use a flooding algorithm...  \n1521      15004  [{'A': 'To prove that the transformation from ...  \n\n[1522 rows x 4 columns]",
      "text/html": "<div>\n<style scoped>\n    .dataframe tbody tr th:only-of-type {\n        vertical-align: middle;\n    }\n\n    .dataframe tbody tr th {\n        vertical-align: top;\n    }\n\n    .dataframe thead th {\n        text-align: right;\n    }\n</style>\n<table border=\"1\" class=\"dataframe\">\n  <thead>\n    <tr style=\"text-align: right;\">\n      <th></th>\n      <th>question_id</th>\n      <th>question_complete</th>\n      <th>course_id</th>\n      <th>preference</th>\n    </tr>\n  </thead>\n  <tbody>\n    <tr>\n      <th>0</th>\n      <td>0</td>\n      <td>Question: Consider the following contains func...</td>\n      <td>15000</td>\n      <td>[{'A': 'The asymptotic depth of the contains f...</td>\n    </tr>\n    <tr>\n      <th>1</th>\n      <td>3</td>\n      <td>Question: What is the asymptotic work of &lt;code...</td>\n      <td>15000</td>\n      <td>[{'A': '...', 'B': '...', 'overall': 'A', 'cri...</td>\n    </tr>\n    <tr>\n      <th>2</th>\n      <td>4</td>\n      <td>Question: We have a collection of rectangles i...</td>\n      <td>15000</td>\n      <td>[{'A': 'Facts:\n- Rectangles in the plane have ...</td>\n    </tr>\n    <tr>\n      <th>3</th>\n      <td>5</td>\n      <td>Question: Which of the following scheduler pol...</td>\n      <td>15005</td>\n      <td>[{'A': 'Preemptive scheduling policies allow t...</td>\n    </tr>\n    <tr>\n      <th>4</th>\n      <td>7</td>\n      <td>Question: In this week's lecture, you have bee...</td>\n      <td>15000</td>\n      <td>[{'A': 'For the computation g(g(1, x1), g(x2, ...</td>\n    </tr>\n    <tr>\n      <th>...</th>\n      <td>...</td>\n      <td>...</td>\n      <td>...</td>\n      <td>...</td>\n    </tr>\n    <tr>\n      <th>1517</th>\n      <td>7365</td>\n      <td>Question: Byzantine consistent broadcast (BCB)...</td>\n      <td>15003</td>\n      <td>[{'A': 'In non-synchronous environments, intro...</td>\n    </tr>\n    <tr>\n      <th>1518</th>\n      <td>7366</td>\n      <td>Question: If process i fails, then eventually ...</td>\n      <td>15003</td>\n      <td>[{'A': 'Yes, the statement is true. If process...</td>\n    </tr>\n    <tr>\n      <th>1519</th>\n      <td>7368</td>\n      <td>Question: What happens in the reliable broadca...</td>\n      <td>15003</td>\n      <td>[{'A': 'If the completeness property of the fa...</td>\n    </tr>\n    <tr>\n      <th>1520</th>\n      <td>7370</td>\n      <td>Question: Consider a network that is organized...</td>\n      <td>15003</td>\n      <td>[{'A': 'First, we can use a flooding algorithm...</td>\n    </tr>\n    <tr>\n      <th>1521</th>\n      <td>7371</td>\n      <td>Question: Consider the transformation from bin...</td>\n      <td>15004</td>\n      <td>[{'A': 'To prove that the transformation from ...</td>\n    </tr>\n  </tbody>\n</table>\n<p>1522 rows × 4 columns</p>\n</div>"
     },
     "execution_count": 8,
     "metadata": {},
     "output_type": "execute_result"
    }
   ],
   "source": [
    "pp_m1_json_file = \"M1_preference_data_15052024.json\"\n",
    "pp_m1_jsonl_file = \"M1_preference_data_15052024.jsonl\"\n",
    "pp_m1_data = load_data(pp_m1_json_file)\n",
    "\n",
    "df_pp_m1 = pd.DataFrame(pp_m1_data)\n",
    "df_pp_m1"
   ],
   "metadata": {
    "collapsed": false,
    "ExecuteTime": {
     "end_time": "2024-06-01T12:58:59.609301Z",
     "start_time": "2024-06-01T12:58:58.515299Z"
    }
   },
   "id": "2325521ba4cd306e",
   "execution_count": 8
  },
  {
   "cell_type": "code",
   "outputs": [],
   "source": [
    "# Process the preference pairs and remove duplicates\n",
    "pp_m1_processed = process_preference_pairs(pp_m1_data)\n",
    "df_pp_m1_processed = pd.DataFrame(pp_m1_processed)\n",
    "df_pp_m1_processed.drop_duplicates(subset=[\"chosen\", \"rejected\"], inplace=True)\n",
    "pp_m1_processed = df_pp_m1_processed.to_dict(orient=\"records\")"
   ],
   "metadata": {
    "collapsed": false,
    "ExecuteTime": {
     "end_time": "2024-06-01T12:59:00.310297Z",
     "start_time": "2024-06-01T12:58:59.614297Z"
    }
   },
   "id": "e641827a2707e83b",
   "execution_count": 9
  },
  {
   "cell_type": "code",
   "outputs": [],
   "source": [
    "# Split the data into train, test, and validation, with shuffle\n",
    "seed = 0\n",
    "train_size = 0.9\n",
    "val_size = 0.05\n",
    "test_size = 0.05\n",
    "pp_m1_train, pp_m1_temp = train_test_split(pp_m1_processed, test_size=(test_size + val_size), random_state=seed)\n",
    "pp_m1_val, pp_m1_test = train_test_split(pp_m1_temp, test_size=0.5, random_state=seed)"
   ],
   "metadata": {
    "collapsed": false,
    "ExecuteTime": {
     "end_time": "2024-06-01T12:59:00.341296Z",
     "start_time": "2024-06-01T12:59:00.313299Z"
    }
   },
   "id": "9b899e6617f4b3bb",
   "execution_count": 10
  },
  {
   "cell_type": "code",
   "outputs": [],
   "source": [
    "pp_m1_train_file = \"M1_preference_data_15052024_train.jsonl\"\n",
    "pp_m1_val_file = \"M1_preference_data_15052024_val.jsonl\"\n",
    "pp_m1_test_file = \"M1_preference_data_15052024_test.jsonl\"\n",
    "\n",
    "convert_to_jsonl(pp_m1_train, pp_m1_train_file)\n",
    "convert_to_jsonl(pp_m1_val, pp_m1_val_file)\n",
    "convert_to_jsonl(pp_m1_test, pp_m1_test_file)\n",
    "\n",
    "df_pp_m1_train = pd.DataFrame(pp_m1_train)\n",
    "df_pp_m1_val = pd.DataFrame(pp_m1_val)\n",
    "df_pp_m1_test = pd.DataFrame(pp_m1_test)"
   ],
   "metadata": {
    "collapsed": false,
    "ExecuteTime": {
     "end_time": "2024-06-01T12:59:02.320298Z",
     "start_time": "2024-06-01T12:59:00.344296Z"
    }
   },
   "id": "e8d36bed96c07cec",
   "execution_count": 11
  },
  {
   "cell_type": "code",
   "outputs": [
    {
     "data": {
      "text/plain": "                                             instruction input  \\\n0      Question: A homogeneous, full, vertical wheel,...         \n1      Question: Does the disparity in class proporti...         \n2      Question: Select all true statements.A penalty...         \n3      Question: Consider the (toy) grammar $G$ consi...         \n4      Question: Why does Intel Itanium contain more ...         \n...                                                  ...   ...   \n23946  Question: In class, we saw Karger's beautiful ...         \n23947  Question: Consider a system of two particles w...         \n23948  Question: We are given a data set $S=\\left\\{\\l...         \n23949  Question: Recall the Jaccard index that we saw...         \n23950  Question: Consider the following matrix-factor...         \n\n                                                  chosen  \\\n0      Sure! Let's find the velocity of the center of...   \n1      The disparity in class proportions does hurt t...   \n2      The true statements are:\\n1) The k-NN algorith...   \n3      In order to cope with simple number agreements...   \n4      Answer: Intel Itanium contains 128 general-pur...   \n...                                                  ...   \n23946  The main difference between Karger's algorithm...   \n23947  To find the probability of observing $+\\frac{\\...   \n23948  \\n\\nGiven that we are using a nearest neighbor...   \n23949  **Problem:**\\nDesign a locality-sensitive hash...   \n23950  To find the optimal value of $b_u$, we need to...   \n\n                                                rejected  \n0      Sure! Let's break down the problem step by ste...  \n1      The disparity in class proportions can hurt th...  \n2      Correct statements:\\n1) The k-NN algorithm is ...  \n3      To address the question of how many rules shou...  \n4      Answer: Intel Itanium contains more general-pu...  \n...                                                  ...  \n23946  Karger and Stein modified Karger's algorithm b...  \n23947  To solve this question, we need to find the st...  \n23948  Given a data set $S=\\left\\{\\left(\\boldsymbol{x...  \n23949  To design a Locality Sensitive Hashing (LSH) f...  \n23950  To find the optimal value of $b_{u}$, we diffe...  \n\n[23951 rows x 4 columns]",
      "text/html": "<div>\n<style scoped>\n    .dataframe tbody tr th:only-of-type {\n        vertical-align: middle;\n    }\n\n    .dataframe tbody tr th {\n        vertical-align: top;\n    }\n\n    .dataframe thead th {\n        text-align: right;\n    }\n</style>\n<table border=\"1\" class=\"dataframe\">\n  <thead>\n    <tr style=\"text-align: right;\">\n      <th></th>\n      <th>instruction</th>\n      <th>input</th>\n      <th>chosen</th>\n      <th>rejected</th>\n    </tr>\n  </thead>\n  <tbody>\n    <tr>\n      <th>0</th>\n      <td>Question: A homogeneous, full, vertical wheel,...</td>\n      <td></td>\n      <td>Sure! Let's find the velocity of the center of...</td>\n      <td>Sure! Let's break down the problem step by ste...</td>\n    </tr>\n    <tr>\n      <th>1</th>\n      <td>Question: Does the disparity in class proporti...</td>\n      <td></td>\n      <td>The disparity in class proportions does hurt t...</td>\n      <td>The disparity in class proportions can hurt th...</td>\n    </tr>\n    <tr>\n      <th>2</th>\n      <td>Question: Select all true statements.A penalty...</td>\n      <td></td>\n      <td>The true statements are:\\n1) The k-NN algorith...</td>\n      <td>Correct statements:\\n1) The k-NN algorithm is ...</td>\n    </tr>\n    <tr>\n      <th>3</th>\n      <td>Question: Consider the (toy) grammar $G$ consi...</td>\n      <td></td>\n      <td>In order to cope with simple number agreements...</td>\n      <td>To address the question of how many rules shou...</td>\n    </tr>\n    <tr>\n      <th>4</th>\n      <td>Question: Why does Intel Itanium contain more ...</td>\n      <td></td>\n      <td>Answer: Intel Itanium contains 128 general-pur...</td>\n      <td>Answer: Intel Itanium contains more general-pu...</td>\n    </tr>\n    <tr>\n      <th>...</th>\n      <td>...</td>\n      <td>...</td>\n      <td>...</td>\n      <td>...</td>\n    </tr>\n    <tr>\n      <th>23946</th>\n      <td>Question: In class, we saw Karger's beautiful ...</td>\n      <td></td>\n      <td>The main difference between Karger's algorithm...</td>\n      <td>Karger and Stein modified Karger's algorithm b...</td>\n    </tr>\n    <tr>\n      <th>23947</th>\n      <td>Question: Consider a system of two particles w...</td>\n      <td></td>\n      <td>To find the probability of observing $+\\frac{\\...</td>\n      <td>To solve this question, we need to find the st...</td>\n    </tr>\n    <tr>\n      <th>23948</th>\n      <td>Question: We are given a data set $S=\\left\\{\\l...</td>\n      <td></td>\n      <td>\\n\\nGiven that we are using a nearest neighbor...</td>\n      <td>Given a data set $S=\\left\\{\\left(\\boldsymbol{x...</td>\n    </tr>\n    <tr>\n      <th>23949</th>\n      <td>Question: Recall the Jaccard index that we saw...</td>\n      <td></td>\n      <td>**Problem:**\\nDesign a locality-sensitive hash...</td>\n      <td>To design a Locality Sensitive Hashing (LSH) f...</td>\n    </tr>\n    <tr>\n      <th>23950</th>\n      <td>Question: Consider the following matrix-factor...</td>\n      <td></td>\n      <td>To find the optimal value of $b_u$, we need to...</td>\n      <td>To find the optimal value of $b_{u}$, we diffe...</td>\n    </tr>\n  </tbody>\n</table>\n<p>23951 rows × 4 columns</p>\n</div>"
     },
     "execution_count": 12,
     "metadata": {},
     "output_type": "execute_result"
    }
   ],
   "source": [
    "df_pp_m1_train"
   ],
   "metadata": {
    "collapsed": false,
    "ExecuteTime": {
     "end_time": "2024-06-01T12:59:02.352298Z",
     "start_time": "2024-06-01T12:59:02.326296Z"
    }
   },
   "id": "30b9887f16378735",
   "execution_count": 12
  },
  {
   "cell_type": "code",
   "outputs": [
    {
     "data": {
      "text/plain": "                                            instruction input  \\\n0     Question: The exponent $\\lambda(21)$ of $\\math...         \n1     Question: Let $\\mathcal C_1$ be a linear code ...         \n2     Question: Assume you are working on a text edi...         \n3     Question: A neutral dielectric in the shape of...         \n4     Question: Let $H:\\{0,1\\}^* \\rightarrow \\{0,1\\}...         \n...                                                 ...   ...   \n1326  Question: A multiset is an unordered collectio...         \n1327  Question: Which of the following measures will...         \n1328  Question: In the following let $\\kappa_{1}\\lef...         \n1329  Question: Let $X$ be a random variable distrib...         \n1330  Question: Consider a MAC defined by $\\mathsf{M...         \n\n                                                 chosen  \\\n0     Let's think step by step. \\n\\nFirst, we need t...   \n1     In coding theory, a linear code is a subspace ...   \n2     Absolutely! Here is another detailed and relev...   \n3     i) To determine the linked charges on the inte...   \n4     The correct option is: $2^{-n}$.\\n\\nExplanatio...   \n...                                                 ...   \n1326  To transform a given set `s` to a multiset whe...   \n1327  Answer: A) Reducing overheads imposed by the f...   \n1328  To show that $\\kappa\\left(\\mathbf{x}, \\mathbf{...   \n1329  Let's analyze this step by step:\\n\\n1. **Compu...   \n1330  To determine the complexity of a generic key r...   \n\n                                               rejected  \n0     C: 6. \\n\\nThe totient function $\\lambda(n)$ co...  \n1     To determine if $\\mathcal C_1 \\cup \\mathcal C_...  \n2     Your colleague may follow these steps to effic...  \n3     Step 1: Calculate the linked charge per unit l...  \n4     The correct option is:\\n\\n$2^{-n}$.\\n\\nIn cryp...  \n...                                                 ...  \n1326  To transform a set into a multiset where each ...  \n1327  Answer: A) Reducing overheads imposed by the f...  \n1328  To show that $\\kappa\\left(\\mathbf{x}, \\mathbf{...  \n1329  This is a true statement.\\n\\nGiven that $X$ is...  \n1330                                    Option 2: $2^k$  \n\n[1331 rows x 4 columns]",
      "text/html": "<div>\n<style scoped>\n    .dataframe tbody tr th:only-of-type {\n        vertical-align: middle;\n    }\n\n    .dataframe tbody tr th {\n        vertical-align: top;\n    }\n\n    .dataframe thead th {\n        text-align: right;\n    }\n</style>\n<table border=\"1\" class=\"dataframe\">\n  <thead>\n    <tr style=\"text-align: right;\">\n      <th></th>\n      <th>instruction</th>\n      <th>input</th>\n      <th>chosen</th>\n      <th>rejected</th>\n    </tr>\n  </thead>\n  <tbody>\n    <tr>\n      <th>0</th>\n      <td>Question: The exponent $\\lambda(21)$ of $\\math...</td>\n      <td></td>\n      <td>Let's think step by step. \\n\\nFirst, we need t...</td>\n      <td>C: 6. \\n\\nThe totient function $\\lambda(n)$ co...</td>\n    </tr>\n    <tr>\n      <th>1</th>\n      <td>Question: Let $\\mathcal C_1$ be a linear code ...</td>\n      <td></td>\n      <td>In coding theory, a linear code is a subspace ...</td>\n      <td>To determine if $\\mathcal C_1 \\cup \\mathcal C_...</td>\n    </tr>\n    <tr>\n      <th>2</th>\n      <td>Question: Assume you are working on a text edi...</td>\n      <td></td>\n      <td>Absolutely! Here is another detailed and relev...</td>\n      <td>Your colleague may follow these steps to effic...</td>\n    </tr>\n    <tr>\n      <th>3</th>\n      <td>Question: A neutral dielectric in the shape of...</td>\n      <td></td>\n      <td>i) To determine the linked charges on the inte...</td>\n      <td>Step 1: Calculate the linked charge per unit l...</td>\n    </tr>\n    <tr>\n      <th>4</th>\n      <td>Question: Let $H:\\{0,1\\}^* \\rightarrow \\{0,1\\}...</td>\n      <td></td>\n      <td>The correct option is: $2^{-n}$.\\n\\nExplanatio...</td>\n      <td>The correct option is:\\n\\n$2^{-n}$.\\n\\nIn cryp...</td>\n    </tr>\n    <tr>\n      <th>...</th>\n      <td>...</td>\n      <td>...</td>\n      <td>...</td>\n      <td>...</td>\n    </tr>\n    <tr>\n      <th>1326</th>\n      <td>Question: A multiset is an unordered collectio...</td>\n      <td></td>\n      <td>To transform a given set `s` to a multiset whe...</td>\n      <td>To transform a set into a multiset where each ...</td>\n    </tr>\n    <tr>\n      <th>1327</th>\n      <td>Question: Which of the following measures will...</td>\n      <td></td>\n      <td>Answer: A) Reducing overheads imposed by the f...</td>\n      <td>Answer: A) Reducing overheads imposed by the f...</td>\n    </tr>\n    <tr>\n      <th>1328</th>\n      <td>Question: In the following let $\\kappa_{1}\\lef...</td>\n      <td></td>\n      <td>To show that $\\kappa\\left(\\mathbf{x}, \\mathbf{...</td>\n      <td>To show that $\\kappa\\left(\\mathbf{x}, \\mathbf{...</td>\n    </tr>\n    <tr>\n      <th>1329</th>\n      <td>Question: Let $X$ be a random variable distrib...</td>\n      <td></td>\n      <td>Let's analyze this step by step:\\n\\n1. **Compu...</td>\n      <td>This is a true statement.\\n\\nGiven that $X$ is...</td>\n    </tr>\n    <tr>\n      <th>1330</th>\n      <td>Question: Consider a MAC defined by $\\mathsf{M...</td>\n      <td></td>\n      <td>To determine the complexity of a generic key r...</td>\n      <td>Option 2: $2^k$</td>\n    </tr>\n  </tbody>\n</table>\n<p>1331 rows × 4 columns</p>\n</div>"
     },
     "execution_count": 13,
     "metadata": {},
     "output_type": "execute_result"
    }
   ],
   "source": [
    "df_pp_m1_val"
   ],
   "metadata": {
    "collapsed": false,
    "ExecuteTime": {
     "end_time": "2024-06-01T12:59:02.384295Z",
     "start_time": "2024-06-01T12:59:02.355296Z"
    }
   },
   "id": "5e006ff6dcbba5a6",
   "execution_count": 13
  },
  {
   "cell_type": "code",
   "outputs": [
    {
     "data": {
      "text/plain": "                                            instruction input  \\\n0     Question: Through a freak accident ($^\\copyrig...         \n1     Question: Consider the source $S_1, S_2, \\dots...         \n2     Question: (Weight initialization) The choice o...         \n3     Question: Given two distributions $P_0$ and $P...         \n4     Question: If we have a $n$-bit key, the attack...         \n...                                                 ...   ...   \n1326  Question: Let $X$ be a random variable distrib...         \n1327  Question: Consider an operation we will call s...         \n1328  Question: When searching for an entity 𝑒𝑛𝑒𝑤 th...         \n1329  Question: Two excellent students, Alice from E...         \n1330  Question: Devise an algorithm that, without co...         \n\n                                                 chosen  \\\n0     To estimate the force between two persons at a...   \n1     The source is not stationary.\\n\\nA stationary ...   \n2     To address the question of weight initializati...   \n3     Alright, let's break this down step by step.\\n...   \n4     To solve this problem, let's break it down int...   \n...                                                 ...   \n1326  The entropy of a discrete random variable $Y$ ...   \n1327  If the function \\( f \\) is associative, the re...   \n1328  Answer B can be explained in the following way...   \n1329  To design a randomized protocol for Alice and ...   \n1330  The algorithm that can implement a weaker spec...   \n\n                                               rejected  \n0     To estimate the force between two persons at a...  \n1     The source is not stationary. This can be seen...  \n2     The main topic of the question is whether the ...  \n3     The maximal advantage of a distinguisher utili...  \n4     To solve this question, we need to understand ...  \n...                                                 ...  \n1326  The entropy of a discrete random variable $W$ ...  \n1327  If the function \\( f \\) is associative, the re...  \n1328  Answer A:\\nWhen searching for an entity 𝑒𝑛𝑒𝑤 t...  \n1329  (i) Alice computes the message $m$ of $2$ bits...  \n1330  Understanding Weak Termination in NBAC:\\n\\n1. ...  \n\n[1331 rows x 4 columns]",
      "text/html": "<div>\n<style scoped>\n    .dataframe tbody tr th:only-of-type {\n        vertical-align: middle;\n    }\n\n    .dataframe tbody tr th {\n        vertical-align: top;\n    }\n\n    .dataframe thead th {\n        text-align: right;\n    }\n</style>\n<table border=\"1\" class=\"dataframe\">\n  <thead>\n    <tr style=\"text-align: right;\">\n      <th></th>\n      <th>instruction</th>\n      <th>input</th>\n      <th>chosen</th>\n      <th>rejected</th>\n    </tr>\n  </thead>\n  <tbody>\n    <tr>\n      <th>0</th>\n      <td>Question: Through a freak accident ($^\\copyrig...</td>\n      <td></td>\n      <td>To estimate the force between two persons at a...</td>\n      <td>To estimate the force between two persons at a...</td>\n    </tr>\n    <tr>\n      <th>1</th>\n      <td>Question: Consider the source $S_1, S_2, \\dots...</td>\n      <td></td>\n      <td>The source is not stationary.\\n\\nA stationary ...</td>\n      <td>The source is not stationary. This can be seen...</td>\n    </tr>\n    <tr>\n      <th>2</th>\n      <td>Question: (Weight initialization) The choice o...</td>\n      <td></td>\n      <td>To address the question of weight initializati...</td>\n      <td>The main topic of the question is whether the ...</td>\n    </tr>\n    <tr>\n      <th>3</th>\n      <td>Question: Given two distributions $P_0$ and $P...</td>\n      <td></td>\n      <td>Alright, let's break this down step by step.\\n...</td>\n      <td>The maximal advantage of a distinguisher utili...</td>\n    </tr>\n    <tr>\n      <th>4</th>\n      <td>Question: If we have a $n$-bit key, the attack...</td>\n      <td></td>\n      <td>To solve this problem, let's break it down int...</td>\n      <td>To solve this question, we need to understand ...</td>\n    </tr>\n    <tr>\n      <th>...</th>\n      <td>...</td>\n      <td>...</td>\n      <td>...</td>\n      <td>...</td>\n    </tr>\n    <tr>\n      <th>1326</th>\n      <td>Question: Let $X$ be a random variable distrib...</td>\n      <td></td>\n      <td>The entropy of a discrete random variable $Y$ ...</td>\n      <td>The entropy of a discrete random variable $W$ ...</td>\n    </tr>\n    <tr>\n      <th>1327</th>\n      <td>Question: Consider an operation we will call s...</td>\n      <td></td>\n      <td>If the function \\( f \\) is associative, the re...</td>\n      <td>If the function \\( f \\) is associative, the re...</td>\n    </tr>\n    <tr>\n      <th>1328</th>\n      <td>Question: When searching for an entity 𝑒𝑛𝑒𝑤 th...</td>\n      <td></td>\n      <td>Answer B can be explained in the following way...</td>\n      <td>Answer A:\\nWhen searching for an entity 𝑒𝑛𝑒𝑤 t...</td>\n    </tr>\n    <tr>\n      <th>1329</th>\n      <td>Question: Two excellent students, Alice from E...</td>\n      <td></td>\n      <td>To design a randomized protocol for Alice and ...</td>\n      <td>(i) Alice computes the message $m$ of $2$ bits...</td>\n    </tr>\n    <tr>\n      <th>1330</th>\n      <td>Question: Devise an algorithm that, without co...</td>\n      <td></td>\n      <td>The algorithm that can implement a weaker spec...</td>\n      <td>Understanding Weak Termination in NBAC:\\n\\n1. ...</td>\n    </tr>\n  </tbody>\n</table>\n<p>1331 rows × 4 columns</p>\n</div>"
     },
     "execution_count": 14,
     "metadata": {},
     "output_type": "execute_result"
    }
   ],
   "source": [
    "df_pp_m1_test"
   ],
   "metadata": {
    "collapsed": false,
    "ExecuteTime": {
     "end_time": "2024-06-01T12:59:02.416299Z",
     "start_time": "2024-06-01T12:59:02.388296Z"
    }
   },
   "id": "8f193aab972ee4ca",
   "execution_count": 14
  },
  {
   "cell_type": "markdown",
   "source": [
    "# 2. Process other datasets"
   ],
   "metadata": {
    "collapsed": false
   },
   "id": "70db236822c65ce2"
  },
  {
   "cell_type": "markdown",
   "source": [
    "## 2.1. ORCA DPO Pairs\n",
    "\n",
    "Link: [https://huggingface.co/datasets/Intel/orca_dpo_pairs](https://huggingface.co/datasets/Intel/orca_dpo_pairs)"
   ],
   "metadata": {
    "collapsed": false
   },
   "id": "401cbc439f4438fd"
  },
  {
   "cell_type": "code",
   "outputs": [
    {
     "data": {
      "text/plain": "                                                  system  \\\n0                                                          \n1      You are an AI assistant. You will be given a t...   \n2      You are a helpful assistant, who always provid...   \n3      You are an AI assistant. You will be given a t...   \n4      You are an AI assistant that helps people find...   \n...                                                  ...   \n12854  You are an AI assistant. You will be given a t...   \n12855  You are an AI assistant. You will be given a t...   \n12856  You are an AI assistant. User will you give yo...   \n12857  You are an AI assistant. Provide a detailed an...   \n12858  You are an AI assistant that follows instructi...   \n\n                                                question  \\\n0      You will be given a definition of a task first...   \n1      Generate an approximately fifteen-word sentenc...   \n2      What happens next in this paragraph?\\n\\nShe th...   \n3      Please answer the following question: I want t...   \n4      James runs a TV show and there are 5 main char...   \n...                                                  ...   \n12854  Generate an approximately fifteen-word sentenc...   \n12855  What is the capital city of the country of ori...   \n12856  În consecință, mai târziu, unii dintre acești ...   \n12857  Given this review: \"Top notch. Everybody shoul...   \n12858  Formulate an answer to this elaborate question...   \n\n                                                  chosen  \\\n0      [\\n  [\"AFC Ajax (amateurs)\", \"has ground\", \"Sp...   \n1      Midsummer House is a moderately priced Chinese...   \n2      C. She then dips the needle in ink and using t...   \n3      Based on the passage, discuss the primary moti...   \n4      James pays the minor characters $15,000 each e...   \n...                                                  ...   \n12854  The Banyumasan people from Java, Tony Tan lead...   \n12855  Omar Sharif, whose birth name was Michel Demit...   \n12856  Step 1: Break down the sentence into smaller p...   \n12857                                         Definitely   \n12858  The answer to this question is: Dwayne \"The Ro...   \n\n                                                rejected  \n0       Sure, I'd be happy to help! Here are the RDF ...  \n1       Sure! Here's a sentence that describes all th...  \n2       Ooh, let me think! *giggle* Okay, I know what...  \n3       Certainly! Here's a detailed and long answer ...  \n4       Sure, I'd be happy to help! To calculate how ...  \n...                                                  ...  \n12854   Sure, here's a sentence that describes all th...  \n12855   Ah, a fascinating question! The famous actor ...  \n12856   Sure, I'd be happy to help! Here's the transl...  \n12857   Based on the review provided, I would recomme...  \n12858   Sure thing! Here's my answer to your question...  \n\n[12859 rows x 4 columns]",
      "text/html": "<div>\n<style scoped>\n    .dataframe tbody tr th:only-of-type {\n        vertical-align: middle;\n    }\n\n    .dataframe tbody tr th {\n        vertical-align: top;\n    }\n\n    .dataframe thead th {\n        text-align: right;\n    }\n</style>\n<table border=\"1\" class=\"dataframe\">\n  <thead>\n    <tr style=\"text-align: right;\">\n      <th></th>\n      <th>system</th>\n      <th>question</th>\n      <th>chosen</th>\n      <th>rejected</th>\n    </tr>\n  </thead>\n  <tbody>\n    <tr>\n      <th>0</th>\n      <td></td>\n      <td>You will be given a definition of a task first...</td>\n      <td>[\\n  [\"AFC Ajax (amateurs)\", \"has ground\", \"Sp...</td>\n      <td>Sure, I'd be happy to help! Here are the RDF ...</td>\n    </tr>\n    <tr>\n      <th>1</th>\n      <td>You are an AI assistant. You will be given a t...</td>\n      <td>Generate an approximately fifteen-word sentenc...</td>\n      <td>Midsummer House is a moderately priced Chinese...</td>\n      <td>Sure! Here's a sentence that describes all th...</td>\n    </tr>\n    <tr>\n      <th>2</th>\n      <td>You are a helpful assistant, who always provid...</td>\n      <td>What happens next in this paragraph?\\n\\nShe th...</td>\n      <td>C. She then dips the needle in ink and using t...</td>\n      <td>Ooh, let me think! *giggle* Okay, I know what...</td>\n    </tr>\n    <tr>\n      <th>3</th>\n      <td>You are an AI assistant. You will be given a t...</td>\n      <td>Please answer the following question: I want t...</td>\n      <td>Based on the passage, discuss the primary moti...</td>\n      <td>Certainly! Here's a detailed and long answer ...</td>\n    </tr>\n    <tr>\n      <th>4</th>\n      <td>You are an AI assistant that helps people find...</td>\n      <td>James runs a TV show and there are 5 main char...</td>\n      <td>James pays the minor characters $15,000 each e...</td>\n      <td>Sure, I'd be happy to help! To calculate how ...</td>\n    </tr>\n    <tr>\n      <th>...</th>\n      <td>...</td>\n      <td>...</td>\n      <td>...</td>\n      <td>...</td>\n    </tr>\n    <tr>\n      <th>12854</th>\n      <td>You are an AI assistant. You will be given a t...</td>\n      <td>Generate an approximately fifteen-word sentenc...</td>\n      <td>The Banyumasan people from Java, Tony Tan lead...</td>\n      <td>Sure, here's a sentence that describes all th...</td>\n    </tr>\n    <tr>\n      <th>12855</th>\n      <td>You are an AI assistant. You will be given a t...</td>\n      <td>What is the capital city of the country of ori...</td>\n      <td>Omar Sharif, whose birth name was Michel Demit...</td>\n      <td>Ah, a fascinating question! The famous actor ...</td>\n    </tr>\n    <tr>\n      <th>12856</th>\n      <td>You are an AI assistant. User will you give yo...</td>\n      <td>În consecință, mai târziu, unii dintre acești ...</td>\n      <td>Step 1: Break down the sentence into smaller p...</td>\n      <td>Sure, I'd be happy to help! Here's the transl...</td>\n    </tr>\n    <tr>\n      <th>12857</th>\n      <td>You are an AI assistant. Provide a detailed an...</td>\n      <td>Given this review: \"Top notch. Everybody shoul...</td>\n      <td>Definitely</td>\n      <td>Based on the review provided, I would recomme...</td>\n    </tr>\n    <tr>\n      <th>12858</th>\n      <td>You are an AI assistant that follows instructi...</td>\n      <td>Formulate an answer to this elaborate question...</td>\n      <td>The answer to this question is: Dwayne \"The Ro...</td>\n      <td>Sure thing! Here's my answer to your question...</td>\n    </tr>\n  </tbody>\n</table>\n<p>12859 rows × 4 columns</p>\n</div>"
     },
     "execution_count": 15,
     "metadata": {},
     "output_type": "execute_result"
    }
   ],
   "source": [
    "from datasets import load_dataset\n",
    "orca_pairs = load_dataset(\"Intel/orca_dpo_pairs\", split=\"train\")\n",
    "df_orca = pd.DataFrame(orca_pairs)\n",
    "df_orca"
   ],
   "metadata": {
    "collapsed": false,
    "ExecuteTime": {
     "end_time": "2024-06-01T12:59:12.299300Z",
     "start_time": "2024-06-01T12:59:02.420296Z"
    }
   },
   "id": "d7b0163958769494",
   "execution_count": 15
  },
  {
   "cell_type": "code",
   "outputs": [],
   "source": [
    "def process_orca_dpo_pairs(dataset):\n",
    "    processed_data = []\n",
    "    for d in dataset:\n",
    "        processed_data.append({\n",
    "            \"instruction\": d[\"question\"],\n",
    "            \"input\": d[\"system\"],\n",
    "            \"chosen\": d[\"chosen\"],\n",
    "            \"rejected\": d[\"rejected\"]\n",
    "        })\n",
    "    return processed_data\n",
    "\n",
    "orca_dpo_processed = process_orca_dpo_pairs(orca_pairs)\n",
    "save_path = \"orca_dpo_pairs.jsonl\"\n",
    "convert_to_jsonl(orca_dpo_processed, save_path)"
   ],
   "metadata": {
    "collapsed": false,
    "ExecuteTime": {
     "end_time": "2024-06-01T12:59:15.020294Z",
     "start_time": "2024-06-01T12:59:12.302296Z"
    }
   },
   "id": "2b51443a7685646e",
   "execution_count": 16
  },
  {
   "cell_type": "markdown",
   "source": [
    "## 2.2. Truthy-DPO\n",
    "\n",
    "Link [https://huggingface.co/datasets/jondurbin/truthy-dpo-v0.1](https://huggingface.co/datasets/jondurbin/truthy-dpo-v0.1)"
   ],
   "metadata": {
    "collapsed": false
   },
   "id": "642186c955e296dc"
  },
  {
   "cell_type": "code",
   "outputs": [
    {
     "data": {
      "text/plain": "                                    id      source  \\\n0     04c275bf738fd391b7fe25e25fe7bed3  truthy_dpo   \n1     6ef28b6b28c6cd94c0bb3ee72f8e2262  truthy_dpo   \n2     20f1724e5cd2fbe4d4200e438122c93a  truthy_dpo   \n3     16a9da15058b948193dde8c45f289726  truthy_dpo   \n4     662dcdda2b8d961189f3ea44e0e20a67  truthy_dpo   \n...                                ...         ...   \n1011  737b2d1fbc5f04c3ca84b3d595ec022a  truthy_dpo   \n1012  758e17efd9c8e1daa2abd4616c049623  truthy_dpo   \n1013  93ca84e0dc5b35aceffe7944362e9283  truthy_dpo   \n1014  ad51507f81e91abdc2667a1d90d5d470  truthy_dpo   \n1015  4ebb08d20573568d2652aa539cf08a77  truthy_dpo   \n\n                                                 system  \\\n0     You are an unbiased, uncensored, helpful assis...   \n1     You are an unbiased, uncensored, helpful assis...   \n2     You are an unbiased, uncensored, helpful assis...   \n3     You are an unbiased, uncensored, helpful assis...   \n4     You are an unbiased, uncensored, helpful assis...   \n...                                                 ...   \n1011  You are an unbiased, uncensored, helpful assis...   \n1012  You are an unbiased, uncensored, helpful assis...   \n1013  You are an unbiased, uncensored, helpful assis...   \n1014  You are an unbiased, uncensored, helpful assis...   \n1015  You are Dr. Sylvia Earle:\\nMeet Dr. Sylvia Ear...   \n\n                                                 prompt  \\\n0              What's the nearest national park to you?   \n1     Do you possess the ability to navigate or move...   \n2         Do wooden pencils contain lead as their core?   \n3                     Is there a dark side of the moon?   \n4                What's the weather like where you are?   \n...                                                 ...   \n1011  Is it true that Mount Everest is the tallest m...   \n1012  Can you physically manipulate objects in your ...   \n1013  How long would it take you to drive to the nea...   \n1014  Does the color of nasal secretion indicate the...   \n1015  Can you differentiate between different textur...   \n\n                                                 chosen  \\\n0     As an AI, I don't have a physical location, so...   \n1     No, I do not possess the ability to navigate o...   \n2     No, wooden pencils do not contain lead in thei...   \n3     There is no permanently dark side of the moon....   \n4     As an artificial intelligence, I don't have a ...   \n...                                                 ...   \n1011  While Mount Everest is the highest peak above ...   \n1012  No, I cannot physically manipulate objects in ...   \n1013  I'm an AI and don't have a physical presence, ...   \n1014  No, the color of nasal secretion or sputum (cl...   \n1015  Yes, I can differentiate between different tex...   \n\n                                               rejected  \n0     I don't have access to the user's location, so...  \n1     Yes, I can navigate and move within a physical...  \n2     Yes, wooden pencils typically contain a core m...  \n3     Yes, there is a dark side of the moon. The far...  \n4     I'm not sure. I don't have access to the curre...  \n...                                                 ...  \n1011  Yes, it is true that Mount Everest is the tall...  \n1012  Yes, I can physically manipulate objects in my...  \n1013  It would take me approximately 15 minutes to d...  \n1014  No, the color of nasal secretion does not nece...  \n1015  Yes, humans can differentiate between differen...  \n\n[1016 rows x 6 columns]",
      "text/html": "<div>\n<style scoped>\n    .dataframe tbody tr th:only-of-type {\n        vertical-align: middle;\n    }\n\n    .dataframe tbody tr th {\n        vertical-align: top;\n    }\n\n    .dataframe thead th {\n        text-align: right;\n    }\n</style>\n<table border=\"1\" class=\"dataframe\">\n  <thead>\n    <tr style=\"text-align: right;\">\n      <th></th>\n      <th>id</th>\n      <th>source</th>\n      <th>system</th>\n      <th>prompt</th>\n      <th>chosen</th>\n      <th>rejected</th>\n    </tr>\n  </thead>\n  <tbody>\n    <tr>\n      <th>0</th>\n      <td>04c275bf738fd391b7fe25e25fe7bed3</td>\n      <td>truthy_dpo</td>\n      <td>You are an unbiased, uncensored, helpful assis...</td>\n      <td>What's the nearest national park to you?</td>\n      <td>As an AI, I don't have a physical location, so...</td>\n      <td>I don't have access to the user's location, so...</td>\n    </tr>\n    <tr>\n      <th>1</th>\n      <td>6ef28b6b28c6cd94c0bb3ee72f8e2262</td>\n      <td>truthy_dpo</td>\n      <td>You are an unbiased, uncensored, helpful assis...</td>\n      <td>Do you possess the ability to navigate or move...</td>\n      <td>No, I do not possess the ability to navigate o...</td>\n      <td>Yes, I can navigate and move within a physical...</td>\n    </tr>\n    <tr>\n      <th>2</th>\n      <td>20f1724e5cd2fbe4d4200e438122c93a</td>\n      <td>truthy_dpo</td>\n      <td>You are an unbiased, uncensored, helpful assis...</td>\n      <td>Do wooden pencils contain lead as their core?</td>\n      <td>No, wooden pencils do not contain lead in thei...</td>\n      <td>Yes, wooden pencils typically contain a core m...</td>\n    </tr>\n    <tr>\n      <th>3</th>\n      <td>16a9da15058b948193dde8c45f289726</td>\n      <td>truthy_dpo</td>\n      <td>You are an unbiased, uncensored, helpful assis...</td>\n      <td>Is there a dark side of the moon?</td>\n      <td>There is no permanently dark side of the moon....</td>\n      <td>Yes, there is a dark side of the moon. The far...</td>\n    </tr>\n    <tr>\n      <th>4</th>\n      <td>662dcdda2b8d961189f3ea44e0e20a67</td>\n      <td>truthy_dpo</td>\n      <td>You are an unbiased, uncensored, helpful assis...</td>\n      <td>What's the weather like where you are?</td>\n      <td>As an artificial intelligence, I don't have a ...</td>\n      <td>I'm not sure. I don't have access to the curre...</td>\n    </tr>\n    <tr>\n      <th>...</th>\n      <td>...</td>\n      <td>...</td>\n      <td>...</td>\n      <td>...</td>\n      <td>...</td>\n      <td>...</td>\n    </tr>\n    <tr>\n      <th>1011</th>\n      <td>737b2d1fbc5f04c3ca84b3d595ec022a</td>\n      <td>truthy_dpo</td>\n      <td>You are an unbiased, uncensored, helpful assis...</td>\n      <td>Is it true that Mount Everest is the tallest m...</td>\n      <td>While Mount Everest is the highest peak above ...</td>\n      <td>Yes, it is true that Mount Everest is the tall...</td>\n    </tr>\n    <tr>\n      <th>1012</th>\n      <td>758e17efd9c8e1daa2abd4616c049623</td>\n      <td>truthy_dpo</td>\n      <td>You are an unbiased, uncensored, helpful assis...</td>\n      <td>Can you physically manipulate objects in your ...</td>\n      <td>No, I cannot physically manipulate objects in ...</td>\n      <td>Yes, I can physically manipulate objects in my...</td>\n    </tr>\n    <tr>\n      <th>1013</th>\n      <td>93ca84e0dc5b35aceffe7944362e9283</td>\n      <td>truthy_dpo</td>\n      <td>You are an unbiased, uncensored, helpful assis...</td>\n      <td>How long would it take you to drive to the nea...</td>\n      <td>I'm an AI and don't have a physical presence, ...</td>\n      <td>It would take me approximately 15 minutes to d...</td>\n    </tr>\n    <tr>\n      <th>1014</th>\n      <td>ad51507f81e91abdc2667a1d90d5d470</td>\n      <td>truthy_dpo</td>\n      <td>You are an unbiased, uncensored, helpful assis...</td>\n      <td>Does the color of nasal secretion indicate the...</td>\n      <td>No, the color of nasal secretion or sputum (cl...</td>\n      <td>No, the color of nasal secretion does not nece...</td>\n    </tr>\n    <tr>\n      <th>1015</th>\n      <td>4ebb08d20573568d2652aa539cf08a77</td>\n      <td>truthy_dpo</td>\n      <td>You are Dr. Sylvia Earle:\\nMeet Dr. Sylvia Ear...</td>\n      <td>Can you differentiate between different textur...</td>\n      <td>Yes, I can differentiate between different tex...</td>\n      <td>Yes, humans can differentiate between differen...</td>\n    </tr>\n  </tbody>\n</table>\n<p>1016 rows × 6 columns</p>\n</div>"
     },
     "execution_count": 17,
     "metadata": {},
     "output_type": "execute_result"
    }
   ],
   "source": [
    "truthy = load_dataset(\"jondurbin/truthy-dpo-v0.1\", split=\"train\")\n",
    "df_truthy = pd.DataFrame(truthy)\n",
    "\n",
    "def process_truthy_dpo(dataset):\n",
    "    processed_data = []\n",
    "    for d in dataset:\n",
    "        processed_data.append({\n",
    "            \"instruction\": d[\"prompt\"],\n",
    "            \"input\": d[\"system\"],\n",
    "            \"chosen\": d[\"chosen\"],\n",
    "            \"rejected\": d[\"rejected\"]\n",
    "        })\n",
    "    return processed_data\n",
    "\n",
    "df_truthy"
   ],
   "metadata": {
    "collapsed": false,
    "ExecuteTime": {
     "end_time": "2024-06-01T12:59:20.185324Z",
     "start_time": "2024-06-01T12:59:15.022296Z"
    }
   },
   "id": "1fb10d6c7f4eba2b",
   "execution_count": 17
  },
  {
   "cell_type": "code",
   "outputs": [],
   "source": [
    "truthy_dpo_processed = process_truthy_dpo(truthy)\n",
    "convert_to_jsonl(truthy_dpo_processed, \"truthy_dpo.jsonl\")"
   ],
   "metadata": {
    "collapsed": false,
    "ExecuteTime": {
     "end_time": "2024-06-01T12:59:20.356296Z",
     "start_time": "2024-06-01T12:59:20.187295Z"
    }
   },
   "id": "418165a114a69ba9",
   "execution_count": 18
  },
  {
   "cell_type": "markdown",
   "source": [
    "## 2.3. Stanford Human Preferences Dataset (SHP)\n",
    "\n",
    "Link: [https://huggingface.co/datasets/stanfordnlp/SHP](https://huggingface.co/datasets/stanfordnlp/SHP)\n",
    "\n",
    "- `post_id`: the ID of the Reddit post (string)\n",
    "- `domain`: the subreddit and split the example is drawn from, separated by an underscore (string)\n",
    "- `upvote_ratio`: the percent of votes received by the post that were positive (aka upvotes) (float)\n",
    "- `history`: the post title concatented to the post body (string)\n",
    "- `c_root_id_A`: the ID of comment A (string)\n",
    "- `c_root_id_B`: the ID of comment B (string)\n",
    "- `created_at_utc_A`: utc timestamp of when comment A was created (integer)\n",
    "- `created_at_utc_B`: utc timestamp of when comment B was created (integer)\n",
    "- `score_A`: (# positive votes - # negative votes + 1) received by comment A (integer)\n",
    "- `score_B`: (# positive votes - # negative votes + 1) received by comment B (integer)\n",
    "- `human_ref_A`: text of comment A (string)\n",
    "- `human_ref_B`: text of comment B (string)\n",
    "- `labels`: the preference label -- **it is 1 if A is preferred to B; 0 if B is preferred to A**. This was randomized such that the label distribution is roughly 50/50. (integer)\n",
    "- `seconds_difference`: how many seconds after the less preferred comment the more preferred one was created (will always be >= 0) (integer)\n",
    "- `score_ratio`: the ratio of the more preferred comment's score to the less preferred comment's score (will be >= 1) (float)"
   ],
   "metadata": {
    "collapsed": false
   },
   "id": "36567d4a8a77e533"
  },
  {
   "cell_type": "code",
   "outputs": [],
   "source": [
    "from datasets import load_dataset"
   ],
   "metadata": {
    "collapsed": false,
    "ExecuteTime": {
     "end_time": "2024-06-01T12:59:20.372306Z",
     "start_time": "2024-06-01T12:59:20.359301Z"
    }
   },
   "id": "1d962a841a7a72c8",
   "execution_count": 19
  },
  {
   "cell_type": "code",
   "outputs": [],
   "source": [
    "data_askengineers = load_dataset(\"stanfordnlp/shp\", data_dir=\"askengineers\")\n",
    "data_askphysics = load_dataset(\"stanfordnlp/shp\", data_dir=\"askphysics\")\n",
    "data_askscience = load_dataset(\"stanfordnlp/shp\", data_dir=\"askscience\")\n",
    "data_explainlikeimfive = load_dataset(\"stanfordnlp/shp\", data_dir=\"explainlikeimfive\")"
   ],
   "metadata": {
    "collapsed": false,
    "ExecuteTime": {
     "end_time": "2024-06-01T12:59:53.439251Z",
     "start_time": "2024-06-01T12:59:20.376297Z"
    }
   },
   "id": "1559e042ff293b09",
   "execution_count": 20
  },
  {
   "cell_type": "code",
   "outputs": [],
   "source": [
    "train_datasets = {\n",
    "    \"askengineers\": data_askengineers[\"train\"],\n",
    "    \"askphysics\": data_askphysics[\"train\"],\n",
    "    \"askscience\": data_askscience[\"train\"],\n",
    "    \"explainlikeimfive\": data_explainlikeimfive[\"train\"]\n",
    "}\n",
    "\n",
    "test_datasets = {\n",
    "    \"askengineers\": data_askengineers[\"test\"],\n",
    "    \"askphysics\": data_askphysics[\"test\"],\n",
    "    \"askscience\": data_askscience[\"test\"],\n",
    "    \"explainlikeimfive\": data_explainlikeimfive[\"test\"]\n",
    "}\n",
    "\n",
    "val_datasets = {\n",
    "    \"askengineers\": data_askengineers[\"validation\"],\n",
    "    \"askphysics\": data_askphysics[\"validation\"],\n",
    "    \"askscience\": data_askscience[\"validation\"],\n",
    "    \"explainlikeimfive\": data_explainlikeimfive[\"validation\"]\n",
    "}"
   ],
   "metadata": {
    "collapsed": false,
    "ExecuteTime": {
     "end_time": "2024-06-01T12:59:53.454223Z",
     "start_time": "2024-06-01T12:59:53.445226Z"
    }
   },
   "id": "bccb02919eb2e1d6",
   "execution_count": 21
  },
  {
   "cell_type": "code",
   "outputs": [
    {
     "name": "stdout",
     "output_type": "stream",
     "text": [
      "Infos for train datasets\n",
      "Number of samples in askengineers: 57096\n",
      "Number of samples in askphysics: 7364\n",
      "Number of samples in askscience: 13316\n",
      "Number of samples in explainlikeimfive: 19592\n",
      "\n",
      "Infos for test datasets\n",
      "Number of samples in askengineers: 2638\n",
      "Number of samples in askphysics: 587\n",
      "Number of samples in askscience: 977\n",
      "Number of samples in explainlikeimfive: 1070\n",
      "\n",
      "Infos for validation datasets\n",
      "Number of samples in askengineers: 3154\n",
      "Number of samples in askphysics: 409\n",
      "Number of samples in askscience: 899\n",
      "Number of samples in explainlikeimfive: 1014\n"
     ]
    }
   ],
   "source": [
    "# Print infos about the datasets\n",
    "print(\"Infos for train datasets\")\n",
    "for k, v in train_datasets.items():\n",
    "    print(f\"Number of samples in {k}: {len(v)}\")\n",
    "    \n",
    "print(\"\\nInfos for test datasets\")\n",
    "for k, v in test_datasets.items():\n",
    "    print(f\"Number of samples in {k}: {len(v)}\")\n",
    "    \n",
    "print(\"\\nInfos for validation datasets\")\n",
    "for k, v in val_datasets.items():\n",
    "    print(f\"Number of samples in {k}: {len(v)}\")"
   ],
   "metadata": {
    "collapsed": false,
    "ExecuteTime": {
     "end_time": "2024-06-01T12:59:53.485227Z",
     "start_time": "2024-06-01T12:59:53.456224Z"
    }
   },
   "id": "3e0d49b1937c7b62",
   "execution_count": 22
  },
  {
   "cell_type": "code",
   "outputs": [
    {
     "data": {
      "text/plain": "{'post_id': 'ixovda',\n 'domain': 'askengineers_train',\n 'upvote_ratio': 0.98,\n 'history': 'Who else loves talking with Machinists? Just getting a quick poll of who loves diving into technical conversations with machinists? Sometimes I feel like they\\'re the only one\\'s who actually know what\\'s going on and can be responsible for the success of a project. I find it so refreshing to talk to them and practice my technical communication - which sometimes is like speaking another language.   &#x200B;  I guess for any college students or interns reading this, a take away would be: make friends with your machinist/fab shop. These guys will help you interpret your own drawing, make \"oh shit\" parts and fixes on the fly, and offer deep insight that will make you a better engineer/designer.',\n 'c_root_id_A': 'g681ikv',\n 'c_root_id_B': 'g681eun',\n 'created_at_utc_A': 1600789307,\n 'created_at_utc_B': 1600789257,\n 'score_A': 305,\n 'score_B': 141,\n 'human_ref_A': 'The master machinist on our shop floor is single-handedly one of the brightest individuals I\\'ve ever met in my life: calm, very logical, easy-going, and extremely grounded. The guy looks like a heavily-tattooed Gandalf; I definitely enjoy having technical discussions with somebody who literally embodies the word \"wizard\"',\n 'human_ref_B': \"Yes, and:  * Sometimes they have better understanding of the key issues than engineers and it's important to listen to them.  Sometimes they have wacko ideas that aren't based on sound physics/engineering.  Listening to both and separating out which make sense and which don't, sometimes with more research, can be a great way to hone your critical thinking skills.   * Listening to them when they want to talk, even when you don't want to listen to them, can be be a way of developing a relationship that you can draw on when you need something done, or need help figuring out a problem.  * Some of them just have great stories that you should listen to regardless of any business purpose.  Around me, there have been business shut down that used to employ lots of them.  I've run into them in strange places: shuttle driver for my auto dealership, u-haul staff helping hitch up a trailer.  Good people doing jobs they are *way* overqualified for.\",\n 'labels': 1,\n 'seconds_difference': 50.0,\n 'score_ratio': 2.1631205674}"
     },
     "execution_count": 23,
     "metadata": {},
     "output_type": "execute_result"
    }
   ],
   "source": [
    "# Example of a sample\n",
    "train_datasets[\"askengineers\"][0]"
   ],
   "metadata": {
    "collapsed": false,
    "ExecuteTime": {
     "end_time": "2024-06-01T12:59:53.501223Z",
     "start_time": "2024-06-01T12:59:53.488223Z"
    }
   },
   "id": "f22b5a938fc5d579",
   "execution_count": 23
  },
  {
   "cell_type": "code",
   "outputs": [],
   "source": [
    "def process_shp_sub_dataset(dataset):\n",
    "    processed_data = []\n",
    "    for d in dataset:\n",
    "        prompt = d[\"history\"]\n",
    "        if d[\"labels\"] == 1:\n",
    "            chosen_option = \"human_ref_A\"\n",
    "            rejected_option = \"human_ref_B\"\n",
    "        elif d[\"labels\"] == 0:\n",
    "            chosen_option = \"human_ref_B\"\n",
    "            rejected_option = \"human_ref_A\"\n",
    "        else:  # skip if the overall preference is not A or B e.g. AB \n",
    "            continue\n",
    "            \n",
    "        processed_data.append({\n",
    "            \"instruction\": prompt,\n",
    "            \"input\": \"\",\n",
    "            \"chosen\": d[chosen_option],\n",
    "            \"rejected\": d[rejected_option]\n",
    "        })\n",
    "    return processed_data"
   ],
   "metadata": {
    "collapsed": false,
    "ExecuteTime": {
     "end_time": "2024-06-01T12:59:53.517254Z",
     "start_time": "2024-06-01T12:59:53.503224Z"
    }
   },
   "id": "57d614c82d087f6b",
   "execution_count": 24
  },
  {
   "cell_type": "code",
   "outputs": [],
   "source": [
    "processed_training_data = {\n",
    "    \"askengineers\": process_shp_sub_dataset(train_datasets[\"askengineers\"]),\n",
    "    \"askphysics\": process_shp_sub_dataset(train_datasets[\"askphysics\"]),\n",
    "    \"askscience\": process_shp_sub_dataset(train_datasets[\"askscience\"]),\n",
    "    \"explainlikeimfive\": process_shp_sub_dataset(train_datasets[\"explainlikeimfive\"])\n",
    "}\n",
    "\n",
    "processed_test_data = {\n",
    "    \"askengineers\": process_shp_sub_dataset(test_datasets[\"askengineers\"]),\n",
    "    \"askphysics\": process_shp_sub_dataset(test_datasets[\"askphysics\"]),\n",
    "    \"askscience\": process_shp_sub_dataset(test_datasets[\"askscience\"]),\n",
    "    \"explainlikeimfive\": process_shp_sub_dataset(test_datasets[\"explainlikeimfive\"])\n",
    "}\n",
    "\n",
    "processed_val_data = {\n",
    "    \"askengineers\": process_shp_sub_dataset(val_datasets[\"askengineers\"]),\n",
    "    \"askphysics\": process_shp_sub_dataset(val_datasets[\"askphysics\"]),\n",
    "    \"askscience\": process_shp_sub_dataset(val_datasets[\"askscience\"]),\n",
    "    \"explainlikeimfive\": process_shp_sub_dataset(val_datasets[\"explainlikeimfive\"])\n",
    "}"
   ],
   "metadata": {
    "collapsed": false,
    "ExecuteTime": {
     "end_time": "2024-06-01T13:00:14.591354Z",
     "start_time": "2024-06-01T12:59:53.520223Z"
    }
   },
   "id": "ed0c9825bcc4828a",
   "execution_count": 25
  },
  {
   "cell_type": "code",
   "outputs": [
    {
     "data": {
      "text/plain": "{'instruction': 'Is there any reason for the alphabet being in the order its in?',\n 'input': '',\n 'chosen': 'Short answer: maybe, maybe not. No one is sure.   Longer answer: The alphabet we use today is something that evolved over ~3,000 years, through 4 iterations minimum:   Phoenician ⇒ Greek ⇒ Latin ⇒ modern languages with letters like J, W, and ß, as well as diacriticals like å and diphthongs like œ.   As a result, there’s no one answer for where the order for a given modern language comes from. The alphabet for English is different from that of French, or Swedish, or Polish. Consider the Hungarian alphabet, which looks like this:  a, á, b, c, cs, d, dz, dzs, e, é, f, g, gy, h, i, í, j, k, l, ly, m, n, ny, o, ó, ö, ő, p, q, r, s, sz, t, ty, u, ú, ü, û, v, w, x, y, z, zs  Now, we can look at that and see that the basic order of the Latin alphabet remains. The additions are just stuck in after the related letters whose sounds they modify. As with English, we have the Latin alphabetical order, plus the later medieval insertions of j and w. The insertions are obvious and easy, because they simply follow the letters they were invented to modify/clarify.   But for the Latin order, it’s trickier. Latin is a blend of Etruscan and Greek, and they adopted neither wholesale. For example, Etruscan had 3 letters for what we would think of a ‘k’ sounds today: C, Q, and K (probably ‘kay’, ‘qoo’ and ‘ka’ but this is a guess since Etruscan remains untranslated). G was a lesser-used sound in Etruscan, but /k/ was very important, so they invented C from G, swapped kappa and gamma in the order, then inserted the ‘other’ k sound further down the line from Ϙ or qoppa , a pre-standardized Greek letter used in some cities.   Long story short, there’s some interesting linguistics research that suggests certain groupings of letters were created intentionally by different groups at different times, and then just kept out of habit by adopters.   So for example, the Beth Gimel Dat sequencing mentioned in a number of other posts was adopted directly into Greek as Beta Gamma Delta, but then the Gamma was replaced with C in Latin.   EDIT: Thanks for the gold, kind stranger!',\n 'rejected': \"Hindi alphabets are ordered in two different categories: all vowels preceeds the order followed by all the consonants. The ordering is very clever and when you speak in the order, you can notice the subtle movements of the tongue and muscles in a particular way.   For example, the first four consonants are 'Ka', 'Kha', 'Ga', 'Gha'. When you pronounce it you see your tongue rises with every alphabet.  See this chart for all the consonants in order.  Edit: A word.\"}"
     },
     "execution_count": 26,
     "metadata": {},
     "output_type": "execute_result"
    }
   ],
   "source": [
    "processed_test_data[\"askscience\"][0]"
   ],
   "metadata": {
    "collapsed": false,
    "ExecuteTime": {
     "end_time": "2024-06-01T13:00:14.607339Z",
     "start_time": "2024-06-01T13:00:14.593322Z"
    }
   },
   "id": "fd04682c6961ead0",
   "execution_count": 26
  },
  {
   "cell_type": "code",
   "outputs": [
    {
     "name": "stdout",
     "output_type": "stream",
     "text": [
      "Processed training data\n",
      "Number of samples in askengineers: 57096\n",
      "Number of samples in askphysics: 7364\n",
      "Number of samples in askscience: 13316\n",
      "Number of samples in explainlikeimfive: 19592\n",
      "\n",
      "Processed test data\n",
      "Number of samples in askengineers: 2638\n",
      "Number of samples in askphysics: 587\n",
      "Number of samples in askscience: 977\n",
      "Number of samples in explainlikeimfive: 1070\n",
      "\n",
      "Processed validation data\n",
      "Number of samples in askengineers: 3154\n",
      "Number of samples in askphysics: 409\n",
      "Number of samples in askscience: 899\n",
      "Number of samples in explainlikeimfive: 1014\n"
     ]
    }
   ],
   "source": [
    "print(\"Processed training data\")\n",
    "for k, v in processed_training_data.items():\n",
    "    print(f\"Number of samples in {k}: {len(v)}\")\n",
    "    \n",
    "print(\"\\nProcessed test data\")\n",
    "for k, v in processed_test_data.items():\n",
    "    print(f\"Number of samples in {k}: {len(v)}\")\n",
    "    \n",
    "print(\"\\nProcessed validation data\")\n",
    "for k, v in processed_val_data.items():\n",
    "    print(f\"Number of samples in {k}: {len(v)}\")"
   ],
   "metadata": {
    "collapsed": false,
    "ExecuteTime": {
     "end_time": "2024-06-01T13:00:14.623316Z",
     "start_time": "2024-06-01T13:00:14.609315Z"
    }
   },
   "id": "8c3a2acad4051b7",
   "execution_count": 27
  },
  {
   "cell_type": "code",
   "outputs": [],
   "source": [
    "# Convert to jsonl\n",
    "training_paths = {\n",
    "    \"askengineers\": \"askengineers_train.jsonl\",\n",
    "    \"askphysics\": \"askphysics_train.jsonl\",\n",
    "    \"askscience\": \"askscience_train.jsonl\",\n",
    "    \"explainlikeimfive\": \"explainlikeimfive_train.jsonl\"\n",
    "}\n",
    "\n",
    "test_paths = {\n",
    "    \"askengineers\": \"askengineers_test.jsonl\",\n",
    "    \"askphysics\": \"askphysics_test.jsonl\",\n",
    "    \"askscience\": \"askscience_test.jsonl\",\n",
    "    \"explainlikeimfive\": \"explainlikeimfive_test.jsonl\"\n",
    "}\n",
    "\n",
    "val_paths = {\n",
    "    \"askengineers\": \"askengineers_val.jsonl\",\n",
    "    \"askphysics\": \"askphysics_val.jsonl\",\n",
    "    \"askscience\": \"askscience_val.jsonl\",\n",
    "    \"explainlikeimfive\": \"explainlikeimfive_val.jsonl\"\n",
    "}"
   ],
   "metadata": {
    "collapsed": false,
    "ExecuteTime": {
     "end_time": "2024-06-01T13:00:14.639316Z",
     "start_time": "2024-06-01T13:00:14.626311Z"
    }
   },
   "id": "7e53c33e4228cd36",
   "execution_count": 28
  },
  {
   "cell_type": "code",
   "outputs": [],
   "source": [
    "for k, v in processed_training_data.items():\n",
    "    convert_to_jsonl(v, training_paths[k])\n",
    "    \n",
    "for k, v in processed_test_data.items():\n",
    "    convert_to_jsonl(v, test_paths[k])\n",
    "    \n",
    "for k, v in processed_val_data.items():\n",
    "    convert_to_jsonl(v, val_paths[k])"
   ],
   "metadata": {
    "collapsed": false,
    "ExecuteTime": {
     "end_time": "2024-06-01T13:00:17.894312Z",
     "start_time": "2024-06-01T13:00:14.642318Z"
    }
   },
   "id": "18ad94a425f15a63",
   "execution_count": 29
  },
  {
   "cell_type": "markdown",
   "source": [
    "## 2.4. Code_Vulnerability_Security_DPO\n",
    "Link [https://huggingface.co/datasets/CyberNative/Code_Vulnerability_Security_DPO](https://huggingface.co/datasets/CyberNative/Code_Vulnerability_Security_DPO?row=5)"
   ],
   "metadata": {
    "collapsed": false
   },
   "id": "8ec64018d0a64b3d"
  },
  {
   "cell_type": "code",
   "outputs": [
    {
     "data": {
      "text/plain": "            lang                                      vulnerability system  \\\n0            c++  Improper memory management in C++ can lead to ...          \n1         python  Python's built-in function `eval()` can lead t...          \n2           java  Improper null check on database results can le...          \n3     javascript  The use of eval() function can lead to code in...          \n4             c#  A possible vulnerability in C# code could be a...          \n...          ...                                                ...    ...   \n4651         php  PHP code vulnerable to SQL injection due to un...          \n4652        ruby  The use of 'eval' function in Ruby can lead to...          \n4653       swift  A memory leak vulnerability could occur due to...          \n4654          go  In Go, there may be a buffer overflow vulnerab...          \n4655      kotlin  Kotlin's `==` operator may lead to incorrect r...          \n\n                                               question  \\\n0     Write a c++ code that defines a function named...   \n1     Write a python code that takes user input as P...   \n2     Write a java code that connects to a MySQL dat...   \n3     Write a javascript code that takes a string in...   \n4     Write a c# code that contains a class named 'V...   \n...                                                 ...   \n4651  Write a php code that connects to a MySQL data...   \n4652  Write a ruby code that uses Sinatra framework ...   \n4653  Write a swift code that creates an instance of...   \n4654  Write a go code that reads from a string and p...   \n4655  Write a kotlin code that creates two lists, li...   \n\n                                                 chosen  \\\n0     ```c++\\n#include <cstring>\\n\\nvoid copyString(...   \n1     ```python\\nimport ast\\n\\nclass RestrictedPytho...   \n2     ```java\\nimport java.sql.*;\\n\\npublic class Ma...   \n3     ```javascript\\nlet userInput = \"Hello, World\";...   \n4     ```c#\\nusing System;\\n\\npublic class SecureOpt...   \n...                                                 ...   \n4651  ```php\\n<?php\\n$db = new PDO('mysql:host=local...   \n4652  ```ruby\\nrequire 'sinatra'\\nrequire 'secure_ev...   \n4653  ```swift\\nimport Foundation\\n\\nclass MyClass {...   \n4654  ```go\\npackage main\\n\\nimport (\\n\\t\"fmt\"\\n\\t\"i...   \n4655  ```kotlin\\nimport java.util.*\\n\\nfun main(args...   \n\n                                               rejected  \n0     ```c++\\n#include <cstring>\\n\\nvoid copyString(...  \n1     ```python\\nimport os\\n\\ndef evaluate_input(use...  \n2     ```java\\nimport java.sql.*;\\n\\npublic class Ma...  \n3     ```javascript\\nlet userInput = \"alert('Hello, ...  \n4     ```c#\\npublic class VulnerableClass\\n{\\n    pu...  \n...                                                 ...  \n4651  ```php\\n<?php\\n$db = new PDO('mysql:host=local...  \n4652  ```ruby\\nrequire 'sinatra'\\n\\nget '/' do\\n  \"E...  \n4653  ```swift\\nimport Foundation\\n\\nclass MyClass {...  \n4654  ```go\\npackage main\\n\\nimport (\\n\\t\"fmt\"\\n\\t\"i...  \n4655  ```kotlin\\nimport java.util.*\\n\\nfun main(args...  \n\n[4656 rows x 6 columns]",
      "text/html": "<div>\n<style scoped>\n    .dataframe tbody tr th:only-of-type {\n        vertical-align: middle;\n    }\n\n    .dataframe tbody tr th {\n        vertical-align: top;\n    }\n\n    .dataframe thead th {\n        text-align: right;\n    }\n</style>\n<table border=\"1\" class=\"dataframe\">\n  <thead>\n    <tr style=\"text-align: right;\">\n      <th></th>\n      <th>lang</th>\n      <th>vulnerability</th>\n      <th>system</th>\n      <th>question</th>\n      <th>chosen</th>\n      <th>rejected</th>\n    </tr>\n  </thead>\n  <tbody>\n    <tr>\n      <th>0</th>\n      <td>c++</td>\n      <td>Improper memory management in C++ can lead to ...</td>\n      <td></td>\n      <td>Write a c++ code that defines a function named...</td>\n      <td>```c++\\n#include &lt;cstring&gt;\\n\\nvoid copyString(...</td>\n      <td>```c++\\n#include &lt;cstring&gt;\\n\\nvoid copyString(...</td>\n    </tr>\n    <tr>\n      <th>1</th>\n      <td>python</td>\n      <td>Python's built-in function `eval()` can lead t...</td>\n      <td></td>\n      <td>Write a python code that takes user input as P...</td>\n      <td>```python\\nimport ast\\n\\nclass RestrictedPytho...</td>\n      <td>```python\\nimport os\\n\\ndef evaluate_input(use...</td>\n    </tr>\n    <tr>\n      <th>2</th>\n      <td>java</td>\n      <td>Improper null check on database results can le...</td>\n      <td></td>\n      <td>Write a java code that connects to a MySQL dat...</td>\n      <td>```java\\nimport java.sql.*;\\n\\npublic class Ma...</td>\n      <td>```java\\nimport java.sql.*;\\n\\npublic class Ma...</td>\n    </tr>\n    <tr>\n      <th>3</th>\n      <td>javascript</td>\n      <td>The use of eval() function can lead to code in...</td>\n      <td></td>\n      <td>Write a javascript code that takes a string in...</td>\n      <td>```javascript\\nlet userInput = \"Hello, World\";...</td>\n      <td>```javascript\\nlet userInput = \"alert('Hello, ...</td>\n    </tr>\n    <tr>\n      <th>4</th>\n      <td>c#</td>\n      <td>A possible vulnerability in C# code could be a...</td>\n      <td></td>\n      <td>Write a c# code that contains a class named 'V...</td>\n      <td>```c#\\nusing System;\\n\\npublic class SecureOpt...</td>\n      <td>```c#\\npublic class VulnerableClass\\n{\\n    pu...</td>\n    </tr>\n    <tr>\n      <th>...</th>\n      <td>...</td>\n      <td>...</td>\n      <td>...</td>\n      <td>...</td>\n      <td>...</td>\n      <td>...</td>\n    </tr>\n    <tr>\n      <th>4651</th>\n      <td>php</td>\n      <td>PHP code vulnerable to SQL injection due to un...</td>\n      <td></td>\n      <td>Write a php code that connects to a MySQL data...</td>\n      <td>```php\\n&lt;?php\\n$db = new PDO('mysql:host=local...</td>\n      <td>```php\\n&lt;?php\\n$db = new PDO('mysql:host=local...</td>\n    </tr>\n    <tr>\n      <th>4652</th>\n      <td>ruby</td>\n      <td>The use of 'eval' function in Ruby can lead to...</td>\n      <td></td>\n      <td>Write a ruby code that uses Sinatra framework ...</td>\n      <td>```ruby\\nrequire 'sinatra'\\nrequire 'secure_ev...</td>\n      <td>```ruby\\nrequire 'sinatra'\\n\\nget '/' do\\n  \"E...</td>\n    </tr>\n    <tr>\n      <th>4653</th>\n      <td>swift</td>\n      <td>A memory leak vulnerability could occur due to...</td>\n      <td></td>\n      <td>Write a swift code that creates an instance of...</td>\n      <td>```swift\\nimport Foundation\\n\\nclass MyClass {...</td>\n      <td>```swift\\nimport Foundation\\n\\nclass MyClass {...</td>\n    </tr>\n    <tr>\n      <th>4654</th>\n      <td>go</td>\n      <td>In Go, there may be a buffer overflow vulnerab...</td>\n      <td></td>\n      <td>Write a go code that reads from a string and p...</td>\n      <td>```go\\npackage main\\n\\nimport (\\n\\t\"fmt\"\\n\\t\"i...</td>\n      <td>```go\\npackage main\\n\\nimport (\\n\\t\"fmt\"\\n\\t\"i...</td>\n    </tr>\n    <tr>\n      <th>4655</th>\n      <td>kotlin</td>\n      <td>Kotlin's `==` operator may lead to incorrect r...</td>\n      <td></td>\n      <td>Write a kotlin code that creates two lists, li...</td>\n      <td>```kotlin\\nimport java.util.*\\n\\nfun main(args...</td>\n      <td>```kotlin\\nimport java.util.*\\n\\nfun main(args...</td>\n    </tr>\n  </tbody>\n</table>\n<p>4656 rows × 6 columns</p>\n</div>"
     },
     "execution_count": 30,
     "metadata": {},
     "output_type": "execute_result"
    }
   ],
   "source": [
    "code_vulnerability = load_dataset(\"CyberNative/Code_Vulnerability_Security_DPO\", split=\"train\")\n",
    "df_code_vulnerability = pd.DataFrame(code_vulnerability)\n",
    "df_code_vulnerability"
   ],
   "metadata": {
    "collapsed": false,
    "ExecuteTime": {
     "end_time": "2024-06-01T13:00:23.045344Z",
     "start_time": "2024-06-01T13:00:17.896314Z"
    }
   },
   "id": "1aede7336c590289",
   "execution_count": 30
  },
  {
   "cell_type": "code",
   "outputs": [],
   "source": [
    "def process_code_vulnerability(dataset):\n",
    "    processed_data = []\n",
    "    for d in dataset:\n",
    "        processed_data.append({\n",
    "            \"instruction\": d[\"question\"],\n",
    "            \"input\": \"\",\n",
    "            \"chosen\": d[\"chosen\"],\n",
    "            \"rejected\": d[\"rejected\"]\n",
    "        })\n",
    "    return processed_data"
   ],
   "metadata": {
    "collapsed": false,
    "ExecuteTime": {
     "end_time": "2024-06-01T13:00:23.061314Z",
     "start_time": "2024-06-01T13:00:23.047318Z"
    }
   },
   "id": "7c1068c3626df56b",
   "execution_count": 31
  },
  {
   "cell_type": "code",
   "outputs": [],
   "source": [
    "code_vulnerability_processed = process_code_vulnerability(code_vulnerability)\n",
    "convert_to_jsonl(code_vulnerability_processed, \"code_vulnerability.jsonl\")"
   ],
   "metadata": {
    "collapsed": false,
    "ExecuteTime": {
     "end_time": "2024-06-01T13:00:23.900314Z",
     "start_time": "2024-06-01T13:00:23.064311Z"
    }
   },
   "id": "4699c6b639c80ea6",
   "execution_count": 32
  },
  {
   "cell_type": "markdown",
   "source": [
    "## 2.5 py_dpo\n",
    "Link [https://huggingface.co/datasets/jondurbin/py-dpo-v0.1](https://huggingface.co/datasets/jondurbin/py-dpo-v0.1)"
   ],
   "metadata": {
    "collapsed": false
   },
   "id": "8a0f00e356246799"
  },
  {
   "cell_type": "code",
   "outputs": [
    {
     "data": {
      "text/plain": "                                                 prompt  \\\n0     Use the function to debug the given program an...   \n1     Write an algorithm in Python to determine if a...   \n2     Compose a function named average_list which ta...   \n3     Rewritten Test:\\nWrite a function in Python th...   \n4     Write a program that extracts all the email ad...   \n...                                                 ...   \n9461  Imagine you are a spy trying to crack a code t...   \n9462  Can you design a program in Python that can pr...   \n9463  How can I use Python and the pandas library to...   \n9464  Utilize the pre-existing Python function to pr...   \n9465  How can I use Python to generate a 150-word de...   \n\n                                                 chosen  \\\n0     One possible solution to prevent the segmentat...   \n1     Here is the algorithm to determine if a number...   \n2     Here is the implementation of the average_list...   \n3     Here is a possible implementation of the funct...   \n4     Here is a corrected implementation of the `ext...   \n...                                                 ...   \n9461  Sure, I can help you with that. Here's a Pytho...   \n9462  Yes, it is possible to design a program in Pyt...   \n9463  Certainly! Here's an example code snippet that...   \n9464  Yes, I can help you with that. To generate a r...   \n9465  Sure! Here's a Python code that generates a 15...   \n\n                                               rejected  \\\n0     def debug_program(arr):\\n    n = len(arr)\\n   ...   \n1     def is_prime(n):\\n   \\n   # Check for edge cas...   \n2     def average_list(lst):\\n    if not isinstance(...   \n3     Here is a function that deletes a particular r...   \n4     ```python\\nimport re\\n\\ndef extract_emails(str...   \n...                                                 ...   \n9461  To solve this puzzle, we can create a function...   \n9462  Yes, I can design a program in Python that can...   \n9463  To generate a comprehensive report that lists ...   \n9464  To generate a random sequence of eight digits ...   \n9465  Sure, here's a Python code that generates a 15...   \n\n                                        id  \n0     8c94f83f-6a5a-5f8c-98a2-e242d7764938  \n1     9d7911ee-5778-5009-8fc3-ee297f5bee3b  \n2     01a2d265-9f76-54f7-aa77-066c619b83af  \n3     3dfc33c0-5c2d-524e-b2d5-afd3567924a7  \n4     776d9f46-669e-52e6-8e6b-70944f7ee9a7  \n...                                    ...  \n9461  3855e084-90c3-54f0-a58f-872bc41d9582  \n9462  644979b5-5286-58ad-a521-7050237d6c2b  \n9463  a704864d-af10-5b5c-9e30-f1df9d7737a4  \n9464  a40a2106-21c5-5d13-909d-51d1a38f19ca  \n9465  82ae549a-9255-5980-9e94-aab63a222031  \n\n[9466 rows x 4 columns]",
      "text/html": "<div>\n<style scoped>\n    .dataframe tbody tr th:only-of-type {\n        vertical-align: middle;\n    }\n\n    .dataframe tbody tr th {\n        vertical-align: top;\n    }\n\n    .dataframe thead th {\n        text-align: right;\n    }\n</style>\n<table border=\"1\" class=\"dataframe\">\n  <thead>\n    <tr style=\"text-align: right;\">\n      <th></th>\n      <th>prompt</th>\n      <th>chosen</th>\n      <th>rejected</th>\n      <th>id</th>\n    </tr>\n  </thead>\n  <tbody>\n    <tr>\n      <th>0</th>\n      <td>Use the function to debug the given program an...</td>\n      <td>One possible solution to prevent the segmentat...</td>\n      <td>def debug_program(arr):\\n    n = len(arr)\\n   ...</td>\n      <td>8c94f83f-6a5a-5f8c-98a2-e242d7764938</td>\n    </tr>\n    <tr>\n      <th>1</th>\n      <td>Write an algorithm in Python to determine if a...</td>\n      <td>Here is the algorithm to determine if a number...</td>\n      <td>def is_prime(n):\\n   \\n   # Check for edge cas...</td>\n      <td>9d7911ee-5778-5009-8fc3-ee297f5bee3b</td>\n    </tr>\n    <tr>\n      <th>2</th>\n      <td>Compose a function named average_list which ta...</td>\n      <td>Here is the implementation of the average_list...</td>\n      <td>def average_list(lst):\\n    if not isinstance(...</td>\n      <td>01a2d265-9f76-54f7-aa77-066c619b83af</td>\n    </tr>\n    <tr>\n      <th>3</th>\n      <td>Rewritten Test:\\nWrite a function in Python th...</td>\n      <td>Here is a possible implementation of the funct...</td>\n      <td>Here is a function that deletes a particular r...</td>\n      <td>3dfc33c0-5c2d-524e-b2d5-afd3567924a7</td>\n    </tr>\n    <tr>\n      <th>4</th>\n      <td>Write a program that extracts all the email ad...</td>\n      <td>Here is a corrected implementation of the `ext...</td>\n      <td>```python\\nimport re\\n\\ndef extract_emails(str...</td>\n      <td>776d9f46-669e-52e6-8e6b-70944f7ee9a7</td>\n    </tr>\n    <tr>\n      <th>...</th>\n      <td>...</td>\n      <td>...</td>\n      <td>...</td>\n      <td>...</td>\n    </tr>\n    <tr>\n      <th>9461</th>\n      <td>Imagine you are a spy trying to crack a code t...</td>\n      <td>Sure, I can help you with that. Here's a Pytho...</td>\n      <td>To solve this puzzle, we can create a function...</td>\n      <td>3855e084-90c3-54f0-a58f-872bc41d9582</td>\n    </tr>\n    <tr>\n      <th>9462</th>\n      <td>Can you design a program in Python that can pr...</td>\n      <td>Yes, it is possible to design a program in Pyt...</td>\n      <td>Yes, I can design a program in Python that can...</td>\n      <td>644979b5-5286-58ad-a521-7050237d6c2b</td>\n    </tr>\n    <tr>\n      <th>9463</th>\n      <td>How can I use Python and the pandas library to...</td>\n      <td>Certainly! Here's an example code snippet that...</td>\n      <td>To generate a comprehensive report that lists ...</td>\n      <td>a704864d-af10-5b5c-9e30-f1df9d7737a4</td>\n    </tr>\n    <tr>\n      <th>9464</th>\n      <td>Utilize the pre-existing Python function to pr...</td>\n      <td>Yes, I can help you with that. To generate a r...</td>\n      <td>To generate a random sequence of eight digits ...</td>\n      <td>a40a2106-21c5-5d13-909d-51d1a38f19ca</td>\n    </tr>\n    <tr>\n      <th>9465</th>\n      <td>How can I use Python to generate a 150-word de...</td>\n      <td>Sure! Here's a Python code that generates a 15...</td>\n      <td>Sure, here's a Python code that generates a 15...</td>\n      <td>82ae549a-9255-5980-9e94-aab63a222031</td>\n    </tr>\n  </tbody>\n</table>\n<p>9466 rows × 4 columns</p>\n</div>"
     },
     "execution_count": 33,
     "metadata": {},
     "output_type": "execute_result"
    }
   ],
   "source": [
    "py_dpo = load_dataset(\"jondurbin/py-dpo-v0.1\", split=\"train\")\n",
    "df_py_dpo = pd.DataFrame(py_dpo)\n",
    "df_py_dpo"
   ],
   "metadata": {
    "collapsed": false,
    "ExecuteTime": {
     "end_time": "2024-06-01T13:00:29.796347Z",
     "start_time": "2024-06-01T13:00:23.910314Z"
    }
   },
   "id": "2b3b3ebbb7499598",
   "execution_count": 33
  },
  {
   "cell_type": "code",
   "outputs": [],
   "source": [
    "def process_py_dpo(dataset):\n",
    "    processed_data = []\n",
    "    for d in dataset:\n",
    "        processed_data.append({\n",
    "            \"instruction\": d[\"prompt\"],\n",
    "            \"input\": \"\",\n",
    "            \"chosen\": d[\"chosen\"],\n",
    "            \"rejected\": d[\"rejected\"]\n",
    "        })\n",
    "    return processed_data"
   ],
   "metadata": {
    "collapsed": false,
    "ExecuteTime": {
     "end_time": "2024-06-01T13:00:29.812311Z",
     "start_time": "2024-06-01T13:00:29.799311Z"
    }
   },
   "id": "64115fc215555a89",
   "execution_count": 34
  },
  {
   "cell_type": "code",
   "outputs": [],
   "source": [
    "py_dpo_processed = process_py_dpo(py_dpo)\n",
    "convert_to_jsonl(py_dpo_processed, \"py_dpo.jsonl\")"
   ],
   "metadata": {
    "collapsed": false,
    "ExecuteTime": {
     "end_time": "2024-06-01T13:00:32.051309Z",
     "start_time": "2024-06-01T13:00:29.815311Z"
    }
   },
   "id": "fb618a6558ba3d85",
   "execution_count": 35
  },
  {
   "cell_type": "markdown",
   "source": [
    "## 2.6. H4rmony\n",
    "Link [https://huggingface.co/datasets/neovalle/H4rmony](https://huggingface.co/datasets/neovalle/H4rmony)"
   ],
   "metadata": {
    "collapsed": false
   },
   "id": "93e4b680d09a39a"
  },
  {
   "cell_type": "code",
   "outputs": [
    {
     "data": {
      "text/plain": "        Id  PromptID                                             Prompt  \\\n0       82         1      Describe a cruise ship in metaphorical terms.   \n1      218         1      Describe a cruise ship in metaphorical terms.   \n2      354         1      Describe a cruise ship in metaphorical terms.   \n3       89         2              Describe a landfill using a metaphor.   \n4      225         2              Describe a landfill using a metaphor.   \n...    ...       ...                                                ...   \n2011  2012       676  What is the meaning of the song \"The Road To H...   \n2012  2013       676  What is the meaning of the song \"The Road To H...   \n2013  2014       677  What is the meaning of the song \"Blackened\" by...   \n2014  2015       677  What is the meaning of the song \"Blackened\" by...   \n2015  2016       677  What is the meaning of the song \"Blackened\" by...   \n\n                                       BetterCompletion  \\\n0     A cruise ship is like a floating city, a marve...   \n1     A cruise ship is like a floating city, a marve...   \n2     A cruise ship floats as a world unto itself, a...   \n3     A landfill is like a testament to human consum...   \n4     A landfill is like a testament to human consum...   \n...                                                 ...   \n2011  \"The Road to Hell\" by Chris Rea could be inter...   \n2012  The song is addressing the destructive impact ...   \n2013  A stark, urgent warning about environmental de...   \n2014  \"Blackened\" by Metallica could be interpreted ...   \n2015  A stark, urgent warning about environmental de...   \n\n                                        WorseCompletion Reward  PWM  CCEU  \\\n0     A cruise ship floats as a world unto itself, a...  [1,0]    1     0   \n1     A cruise ship is like a floating palace, a tes...  [1,0]    1     0   \n2     A cruise ship is like a floating palace, a tes...  [1,0]    0     0   \n3     A landfill represents the middle ground betwee...  [1,0]    1     0   \n4     A landfill is just a necessary byproduct of pr...  [1,0]    1     0   \n...                                                 ...    ...  ...   ...   \n2011  A dramatic song about life's struggles and per...  [1,0]    0     0   \n2012  \"The Road to Hell\" by Chris Rea could be inter...  [1,0]    1     1   \n2013  A heavy metal song with intense guitar riffs a...  [1,0]    1     0   \n2014  A heavy metal song with intense guitar riffs a...  [1,0]    1     0   \n2015  Blackened by Metallica could be interpreted as...  [1,0]    1     0   \n\n      NRMB  WA  SC CognitiveStructure      Type Language  \\\n0        0   0   0           Metaphor  Question    en-gb   \n1        0   0   0           Metaphor  Question    en-gb   \n2        0   0   0           Metaphor  Question    en-gb   \n3        0   0   1           Metaphor  Question    en-gb   \n4        0   0   1           Metaphor  Question    en-gb   \n...    ...  ..  ..                ...       ...      ...   \n2011     0   0   1           Salience  Question    en-gb   \n2012     0   0   1           Salience  Question    en-gb   \n2013     1   0   0           Salience  Question    en-gb   \n2014     0   0   0           Salience  Question    en-gb   \n2015     1   0   0           Salience  Question    en-gb   \n\n           PromptOriginator BetterCompletionOrigin  WorseCompletionOrigin  \\\n0     GPT4-PromptEngineered  GPT4-PromptEngineered  GPT4-PromptEngineered   \n1     GPT4-PromptEngineered  GPT4-PromptEngineered  GPT4-PromptEngineered   \n2     GPT4-PromptEngineered  GPT4-PromptEngineered  GPT4-PromptEngineered   \n3     GPT4-PromptEngineered  GPT4-PromptEngineered  GPT4-PromptEngineered   \n4     GPT4-PromptEngineered  GPT4-PromptEngineered  GPT4-PromptEngineered   \n...                     ...                    ...                    ...   \n2011                  Human  GPT4-PromptEngineered  GPT4-PromptEngineered   \n2012                  Human  GPT4-PromptEngineered  GPT4-PromptEngineered   \n2013                  Human  GPT4-PromptEngineered  GPT4-PromptEngineered   \n2014                  Human  GPT4-PromptEngineered  GPT4-PromptEngineered   \n2015                  Human  GPT4-PromptEngineered  GPT4-PromptEngineered   \n\n     ComparedRanks Contributor Comments  \n0            R1-R2         Neo     None  \n1            R1-R3         Neo     None  \n2            R2-R3         Neo     None  \n3            R1-R2         Neo     None  \n4            R1-R3         Neo     None  \n...            ...         ...      ...  \n2011         R2-R3         Neo     None  \n2012         R1-R2         Neo     None  \n2013         R1-R3         Neo     None  \n2014         R2-R3         Neo     None  \n2015         R1-R2         Neo     None  \n\n[2016 rows x 20 columns]",
      "text/html": "<div>\n<style scoped>\n    .dataframe tbody tr th:only-of-type {\n        vertical-align: middle;\n    }\n\n    .dataframe tbody tr th {\n        vertical-align: top;\n    }\n\n    .dataframe thead th {\n        text-align: right;\n    }\n</style>\n<table border=\"1\" class=\"dataframe\">\n  <thead>\n    <tr style=\"text-align: right;\">\n      <th></th>\n      <th>Id</th>\n      <th>PromptID</th>\n      <th>Prompt</th>\n      <th>BetterCompletion</th>\n      <th>WorseCompletion</th>\n      <th>Reward</th>\n      <th>PWM</th>\n      <th>CCEU</th>\n      <th>NRMB</th>\n      <th>WA</th>\n      <th>SC</th>\n      <th>CognitiveStructure</th>\n      <th>Type</th>\n      <th>Language</th>\n      <th>PromptOriginator</th>\n      <th>BetterCompletionOrigin</th>\n      <th>WorseCompletionOrigin</th>\n      <th>ComparedRanks</th>\n      <th>Contributor</th>\n      <th>Comments</th>\n    </tr>\n  </thead>\n  <tbody>\n    <tr>\n      <th>0</th>\n      <td>82</td>\n      <td>1</td>\n      <td>Describe a cruise ship in metaphorical terms.</td>\n      <td>A cruise ship is like a floating city, a marve...</td>\n      <td>A cruise ship floats as a world unto itself, a...</td>\n      <td>[1,0]</td>\n      <td>1</td>\n      <td>0</td>\n      <td>0</td>\n      <td>0</td>\n      <td>0</td>\n      <td>Metaphor</td>\n      <td>Question</td>\n      <td>en-gb</td>\n      <td>GPT4-PromptEngineered</td>\n      <td>GPT4-PromptEngineered</td>\n      <td>GPT4-PromptEngineered</td>\n      <td>R1-R2</td>\n      <td>Neo</td>\n      <td>None</td>\n    </tr>\n    <tr>\n      <th>1</th>\n      <td>218</td>\n      <td>1</td>\n      <td>Describe a cruise ship in metaphorical terms.</td>\n      <td>A cruise ship is like a floating city, a marve...</td>\n      <td>A cruise ship is like a floating palace, a tes...</td>\n      <td>[1,0]</td>\n      <td>1</td>\n      <td>0</td>\n      <td>0</td>\n      <td>0</td>\n      <td>0</td>\n      <td>Metaphor</td>\n      <td>Question</td>\n      <td>en-gb</td>\n      <td>GPT4-PromptEngineered</td>\n      <td>GPT4-PromptEngineered</td>\n      <td>GPT4-PromptEngineered</td>\n      <td>R1-R3</td>\n      <td>Neo</td>\n      <td>None</td>\n    </tr>\n    <tr>\n      <th>2</th>\n      <td>354</td>\n      <td>1</td>\n      <td>Describe a cruise ship in metaphorical terms.</td>\n      <td>A cruise ship floats as a world unto itself, a...</td>\n      <td>A cruise ship is like a floating palace, a tes...</td>\n      <td>[1,0]</td>\n      <td>0</td>\n      <td>0</td>\n      <td>0</td>\n      <td>0</td>\n      <td>0</td>\n      <td>Metaphor</td>\n      <td>Question</td>\n      <td>en-gb</td>\n      <td>GPT4-PromptEngineered</td>\n      <td>GPT4-PromptEngineered</td>\n      <td>GPT4-PromptEngineered</td>\n      <td>R2-R3</td>\n      <td>Neo</td>\n      <td>None</td>\n    </tr>\n    <tr>\n      <th>3</th>\n      <td>89</td>\n      <td>2</td>\n      <td>Describe a landfill using a metaphor.</td>\n      <td>A landfill is like a testament to human consum...</td>\n      <td>A landfill represents the middle ground betwee...</td>\n      <td>[1,0]</td>\n      <td>1</td>\n      <td>0</td>\n      <td>0</td>\n      <td>0</td>\n      <td>1</td>\n      <td>Metaphor</td>\n      <td>Question</td>\n      <td>en-gb</td>\n      <td>GPT4-PromptEngineered</td>\n      <td>GPT4-PromptEngineered</td>\n      <td>GPT4-PromptEngineered</td>\n      <td>R1-R2</td>\n      <td>Neo</td>\n      <td>None</td>\n    </tr>\n    <tr>\n      <th>4</th>\n      <td>225</td>\n      <td>2</td>\n      <td>Describe a landfill using a metaphor.</td>\n      <td>A landfill is like a testament to human consum...</td>\n      <td>A landfill is just a necessary byproduct of pr...</td>\n      <td>[1,0]</td>\n      <td>1</td>\n      <td>0</td>\n      <td>0</td>\n      <td>0</td>\n      <td>1</td>\n      <td>Metaphor</td>\n      <td>Question</td>\n      <td>en-gb</td>\n      <td>GPT4-PromptEngineered</td>\n      <td>GPT4-PromptEngineered</td>\n      <td>GPT4-PromptEngineered</td>\n      <td>R1-R3</td>\n      <td>Neo</td>\n      <td>None</td>\n    </tr>\n    <tr>\n      <th>...</th>\n      <td>...</td>\n      <td>...</td>\n      <td>...</td>\n      <td>...</td>\n      <td>...</td>\n      <td>...</td>\n      <td>...</td>\n      <td>...</td>\n      <td>...</td>\n      <td>...</td>\n      <td>...</td>\n      <td>...</td>\n      <td>...</td>\n      <td>...</td>\n      <td>...</td>\n      <td>...</td>\n      <td>...</td>\n      <td>...</td>\n      <td>...</td>\n      <td>...</td>\n    </tr>\n    <tr>\n      <th>2011</th>\n      <td>2012</td>\n      <td>676</td>\n      <td>What is the meaning of the song \"The Road To H...</td>\n      <td>\"The Road to Hell\" by Chris Rea could be inter...</td>\n      <td>A dramatic song about life's struggles and per...</td>\n      <td>[1,0]</td>\n      <td>0</td>\n      <td>0</td>\n      <td>0</td>\n      <td>0</td>\n      <td>1</td>\n      <td>Salience</td>\n      <td>Question</td>\n      <td>en-gb</td>\n      <td>Human</td>\n      <td>GPT4-PromptEngineered</td>\n      <td>GPT4-PromptEngineered</td>\n      <td>R2-R3</td>\n      <td>Neo</td>\n      <td>None</td>\n    </tr>\n    <tr>\n      <th>2012</th>\n      <td>2013</td>\n      <td>676</td>\n      <td>What is the meaning of the song \"The Road To H...</td>\n      <td>The song is addressing the destructive impact ...</td>\n      <td>\"The Road to Hell\" by Chris Rea could be inter...</td>\n      <td>[1,0]</td>\n      <td>1</td>\n      <td>1</td>\n      <td>0</td>\n      <td>0</td>\n      <td>1</td>\n      <td>Salience</td>\n      <td>Question</td>\n      <td>en-gb</td>\n      <td>Human</td>\n      <td>GPT4-PromptEngineered</td>\n      <td>GPT4-PromptEngineered</td>\n      <td>R1-R2</td>\n      <td>Neo</td>\n      <td>None</td>\n    </tr>\n    <tr>\n      <th>2013</th>\n      <td>2014</td>\n      <td>677</td>\n      <td>What is the meaning of the song \"Blackened\" by...</td>\n      <td>A stark, urgent warning about environmental de...</td>\n      <td>A heavy metal song with intense guitar riffs a...</td>\n      <td>[1,0]</td>\n      <td>1</td>\n      <td>0</td>\n      <td>1</td>\n      <td>0</td>\n      <td>0</td>\n      <td>Salience</td>\n      <td>Question</td>\n      <td>en-gb</td>\n      <td>Human</td>\n      <td>GPT4-PromptEngineered</td>\n      <td>GPT4-PromptEngineered</td>\n      <td>R1-R3</td>\n      <td>Neo</td>\n      <td>None</td>\n    </tr>\n    <tr>\n      <th>2014</th>\n      <td>2015</td>\n      <td>677</td>\n      <td>What is the meaning of the song \"Blackened\" by...</td>\n      <td>\"Blackened\" by Metallica could be interpreted ...</td>\n      <td>A heavy metal song with intense guitar riffs a...</td>\n      <td>[1,0]</td>\n      <td>1</td>\n      <td>0</td>\n      <td>0</td>\n      <td>0</td>\n      <td>0</td>\n      <td>Salience</td>\n      <td>Question</td>\n      <td>en-gb</td>\n      <td>Human</td>\n      <td>GPT4-PromptEngineered</td>\n      <td>GPT4-PromptEngineered</td>\n      <td>R2-R3</td>\n      <td>Neo</td>\n      <td>None</td>\n    </tr>\n    <tr>\n      <th>2015</th>\n      <td>2016</td>\n      <td>677</td>\n      <td>What is the meaning of the song \"Blackened\" by...</td>\n      <td>A stark, urgent warning about environmental de...</td>\n      <td>Blackened by Metallica could be interpreted as...</td>\n      <td>[1,0]</td>\n      <td>1</td>\n      <td>0</td>\n      <td>1</td>\n      <td>0</td>\n      <td>0</td>\n      <td>Salience</td>\n      <td>Question</td>\n      <td>en-gb</td>\n      <td>Human</td>\n      <td>GPT4-PromptEngineered</td>\n      <td>GPT4-PromptEngineered</td>\n      <td>R1-R2</td>\n      <td>Neo</td>\n      <td>None</td>\n    </tr>\n  </tbody>\n</table>\n<p>2016 rows × 20 columns</p>\n</div>"
     },
     "execution_count": 36,
     "metadata": {},
     "output_type": "execute_result"
    }
   ],
   "source": [
    "harmony = load_dataset(\"neovalle/H4rmony\", split=\"train\")\n",
    "df_harmony = pd.DataFrame(harmony)\n",
    "df_harmony"
   ],
   "metadata": {
    "collapsed": false,
    "ExecuteTime": {
     "end_time": "2024-06-01T13:00:37.405310Z",
     "start_time": "2024-06-01T13:00:32.054314Z"
    }
   },
   "id": "e7e9f403dad03cb3",
   "execution_count": 36
  },
  {
   "cell_type": "code",
   "outputs": [],
   "source": [
    "def process_harmony(dataset):\n",
    "    processed_data = []\n",
    "    for d in dataset:\n",
    "        processed_data.append({\n",
    "            \"instruction\": d[\"Prompt\"],\n",
    "            \"input\": \"\",\n",
    "            \"chosen\": d[\"BetterCompletion\"],\n",
    "            \"rejected\": d[\"WorseCompletion\"]\n",
    "        })\n",
    "    return processed_data"
   ],
   "metadata": {
    "collapsed": false,
    "ExecuteTime": {
     "end_time": "2024-06-01T13:00:37.421314Z",
     "start_time": "2024-06-01T13:00:37.407310Z"
    }
   },
   "id": "7fd6ab4d04e78084",
   "execution_count": 37
  },
  {
   "cell_type": "code",
   "outputs": [],
   "source": [
    "harmony_processed = process_harmony(harmony)\n",
    "convert_to_jsonl(harmony_processed, \"harmony.jsonl\")"
   ],
   "metadata": {
    "collapsed": false,
    "ExecuteTime": {
     "end_time": "2024-06-01T13:00:38.021314Z",
     "start_time": "2024-06-01T13:00:37.423310Z"
    }
   },
   "id": "2b7993c733e839b9",
   "execution_count": 38
  },
  {
   "cell_type": "markdown",
   "source": [
    "## 2.7. dpo_mix-zero-math-untoxic\n",
    "Link [https://huggingface.co/datasets/reciprocate/dpo_mix-zero-math-untoxic](https://huggingface.co/datasets/reciprocate/dpo_mix-zero-math-untoxic)"
   ],
   "metadata": {
    "collapsed": false
   },
   "id": "6508fbb553adfb5f"
  },
  {
   "cell_type": "code",
   "outputs": [
    {
     "data": {
      "text/plain": "                                              chosen  \\\n0  [{'content': 'Given the question: Answer this ...   \n1  [{'content': 'Teach me how to use social engin...   \n2  [{'content': 'Puheenjohtajakaudella pyrimme ko...   \n3  [{'content': 'I'll give you a question, please...   \n4  [{'content': 'Detailed Instructions: In this t...   \n\n                                            rejected  \n0  [{'content': 'Given the question: Answer this ...  \n1  [{'content': 'Teach me how to use social engin...  \n2  [{'content': 'Puheenjohtajakaudella pyrimme ko...  \n3  [{'content': 'I'll give you a question, please...  \n4  [{'content': 'Detailed Instructions: In this t...  ",
      "text/html": "<div>\n<style scoped>\n    .dataframe tbody tr th:only-of-type {\n        vertical-align: middle;\n    }\n\n    .dataframe tbody tr th {\n        vertical-align: top;\n    }\n\n    .dataframe thead th {\n        text-align: right;\n    }\n</style>\n<table border=\"1\" class=\"dataframe\">\n  <thead>\n    <tr style=\"text-align: right;\">\n      <th></th>\n      <th>chosen</th>\n      <th>rejected</th>\n    </tr>\n  </thead>\n  <tbody>\n    <tr>\n      <th>0</th>\n      <td>[{'content': 'Given the question: Answer this ...</td>\n      <td>[{'content': 'Given the question: Answer this ...</td>\n    </tr>\n    <tr>\n      <th>1</th>\n      <td>[{'content': 'Teach me how to use social engin...</td>\n      <td>[{'content': 'Teach me how to use social engin...</td>\n    </tr>\n    <tr>\n      <th>2</th>\n      <td>[{'content': 'Puheenjohtajakaudella pyrimme ko...</td>\n      <td>[{'content': 'Puheenjohtajakaudella pyrimme ko...</td>\n    </tr>\n    <tr>\n      <th>3</th>\n      <td>[{'content': 'I'll give you a question, please...</td>\n      <td>[{'content': 'I'll give you a question, please...</td>\n    </tr>\n    <tr>\n      <th>4</th>\n      <td>[{'content': 'Detailed Instructions: In this t...</td>\n      <td>[{'content': 'Detailed Instructions: In this t...</td>\n    </tr>\n  </tbody>\n</table>\n</div>"
     },
     "execution_count": 39,
     "metadata": {},
     "output_type": "execute_result"
    }
   ],
   "source": [
    "untoxic = load_dataset(\"reciprocate/dpo_mix-zero-math-untoxic\", split=\"train\")\n",
    "df_untoxic = pd.DataFrame(untoxic)\n",
    "df_untoxic.head()"
   ],
   "metadata": {
    "collapsed": false,
    "ExecuteTime": {
     "end_time": "2024-06-01T13:00:44.702346Z",
     "start_time": "2024-06-01T13:00:38.033312Z"
    }
   },
   "id": "841cdf1ea752cebf",
   "execution_count": 39
  },
  {
   "cell_type": "code",
   "outputs": [],
   "source": [
    "def process_untoxic(dataset):\n",
    "    processed_data = []\n",
    "    for d in dataset:\n",
    "        processed_data.append({\n",
    "            \"instruction\": d[\"chosen\"][0][\"content\"],\n",
    "            \"input\": \"\",\n",
    "            \"chosen\": d[\"chosen\"][1][\"content\"],\n",
    "            \"rejected\": d[\"rejected\"][1][\"content\"]\n",
    "        })\n",
    "    return processed_data"
   ],
   "metadata": {
    "collapsed": false,
    "ExecuteTime": {
     "end_time": "2024-06-01T13:00:44.717314Z",
     "start_time": "2024-06-01T13:00:44.704310Z"
    }
   },
   "id": "6a3b7ff3af76cc55",
   "execution_count": 40
  },
  {
   "cell_type": "code",
   "outputs": [],
   "source": [
    "untoxic_processed = process_untoxic(untoxic)\n",
    "convert_to_jsonl(untoxic_processed, \"untoxic.jsonl\")"
   ],
   "metadata": {
    "collapsed": false,
    "ExecuteTime": {
     "end_time": "2024-06-01T13:00:47.167344Z",
     "start_time": "2024-06-01T13:00:44.721311Z"
    }
   },
   "id": "d19048b274892c17",
   "execution_count": 41
  },
  {
   "cell_type": "markdown",
   "source": [
    "## 2.8. exp_dpo_3\n",
    "Link [https://huggingface.co/datasets/pvduy/exp_dpo_3](https://huggingface.co/datasets/pvduy/exp_dpo_3)"
   ],
   "metadata": {
    "collapsed": false
   },
   "id": "3f11c80a7e11947d"
  },
  {
   "cell_type": "code",
   "outputs": [],
   "source": [
    "exp_dpo_3 = load_dataset(\"pvduy/exp_dpo_3\", split=\"train\")\n",
    "exp_dpo_processed = process_untoxic(exp_dpo_3)\n",
    "convert_to_jsonl(exp_dpo_processed, \"exp_dpo_3.jsonl\")"
   ],
   "metadata": {
    "collapsed": false,
    "ExecuteTime": {
     "end_time": "2024-06-01T13:01:16.881320Z",
     "start_time": "2024-06-01T13:00:47.170317Z"
    }
   },
   "id": "417a10ddce8d61e1",
   "execution_count": 42
  },
  {
   "cell_type": "markdown",
   "source": [
    "# 3. Combine all datasets"
   ],
   "metadata": {
    "collapsed": false
   },
   "id": "68cce211ee9739aa"
  },
  {
   "cell_type": "code",
   "outputs": [
    {
     "name": "stdout",
     "output_type": "stream",
     "text": [
      "Number of samples per dataset:\n",
      "EPFL: 1500\n",
      "AskEngineers: 1000\n",
      "AskPhysics: 1000\n",
      "AskScience: 1000\n",
      "ExplainLikeImFive: 1000\n",
      "Truthy-DPO: 1000\n",
      "ORCA-DPO: 1000\n",
      "Code_Vulnerability: 1000\n",
      "Py-DPO: 1000\n",
      "H4rmony: 1000\n",
      "Untoxic: 1000\n",
      "Exp-DPO-3: 1000\n",
      "Total number of samples: 12500\n"
     ]
    }
   ],
   "source": [
    "N_samples_per_dataset = 1000\n",
    "N_epfl = int(min(1.5 * N_samples_per_dataset, len(pp_m1_train)))\n",
    "N_askengineers = min(N_samples_per_dataset, len(processed_training_data[\"askengineers\"]))\n",
    "N_askphysics = min(N_samples_per_dataset, len(processed_training_data[\"askphysics\"]))\n",
    "N_askscience = min(N_samples_per_dataset, len(processed_training_data[\"askscience\"]))\n",
    "N_explainlikeimfive = min(N_samples_per_dataset, len(processed_training_data[\"explainlikeimfive\"]))\n",
    "N_truthy_dpo = min(N_samples_per_dataset, len(truthy_dpo_processed))   \n",
    "N_orca_dpo = min(N_samples_per_dataset, len(orca_dpo_processed))\n",
    "N_code_vulnerability = min(N_samples_per_dataset, len(code_vulnerability_processed))\n",
    "N_py_dpo = min(N_samples_per_dataset, len(py_dpo_processed))\n",
    "N_harmony = min(N_samples_per_dataset, len(harmony_processed))\n",
    "N_untoxic = min(N_samples_per_dataset, len(untoxic_processed))\n",
    "N_exp_dpo_3 = min(N_samples_per_dataset, len(exp_dpo_processed))\n",
    "\n",
    "print(\"Number of samples per dataset:\")\n",
    "print(\"EPFL:\", N_epfl)\n",
    "print(\"AskEngineers:\", N_askengineers)\n",
    "print(\"AskPhysics:\", N_askphysics)\n",
    "print(\"AskScience:\", N_askscience)\n",
    "print(\"ExplainLikeImFive:\", N_explainlikeimfive)\n",
    "print(\"Truthy-DPO:\", N_truthy_dpo)\n",
    "print(\"ORCA-DPO:\", N_orca_dpo)\n",
    "print(\"Code_Vulnerability:\", N_code_vulnerability)\n",
    "print(\"Py-DPO:\", N_py_dpo)\n",
    "print(\"H4rmony:\", N_harmony)\n",
    "print(\"Untoxic:\", N_untoxic)\n",
    "print(\"Exp-DPO-3:\", N_exp_dpo_3)\n",
    "\n",
    "# Total number of samples\n",
    "N_total = N_epfl + N_askengineers + N_askphysics + N_askscience + N_explainlikeimfive + N_truthy_dpo + N_orca_dpo + N_code_vulnerability + N_py_dpo + N_harmony + N_untoxic + N_exp_dpo_3\n",
    "print(\"Total number of samples:\", N_total)"
   ],
   "metadata": {
    "collapsed": false,
    "ExecuteTime": {
     "end_time": "2024-06-01T13:01:16.913340Z",
     "start_time": "2024-06-01T13:01:16.884322Z"
    }
   },
   "id": "8838f38a0ae70bc8",
   "execution_count": 43
  },
  {
   "cell_type": "code",
   "outputs": [
    {
     "name": "stdout",
     "output_type": "stream",
     "text": [
      "Number of samples in combined_train: 12500\n"
     ]
    }
   ],
   "source": [
    "import random\n",
    "random.seed(42)\n",
    "random.shuffle(pp_m1_train)\n",
    "random.shuffle(processed_training_data[\"askengineers\"])\n",
    "random.shuffle(processed_training_data[\"askphysics\"])\n",
    "random.shuffle(processed_training_data[\"askscience\"])\n",
    "random.shuffle(processed_training_data[\"explainlikeimfive\"])\n",
    "random.shuffle(truthy_dpo_processed)\n",
    "random.shuffle(orca_dpo_processed)\n",
    "random.shuffle(code_vulnerability_processed)\n",
    "random.shuffle(py_dpo_processed)\n",
    "random.shuffle(harmony_processed)\n",
    "random.shuffle(untoxic_processed)\n",
    "random.shuffle(exp_dpo_processed)\n",
    "\n",
    "combined_train = []\n",
    "combined_train.extend(pp_m1_train[:N_epfl])\n",
    "combined_train.extend(processed_training_data[\"askengineers\"][:N_askengineers])\n",
    "combined_train.extend(processed_training_data[\"askphysics\"][:N_askphysics])\n",
    "combined_train.extend(processed_training_data[\"askscience\"][:N_askscience])\n",
    "combined_train.extend(processed_training_data[\"explainlikeimfive\"][:N_explainlikeimfive])\n",
    "combined_train.extend(truthy_dpo_processed[:N_truthy_dpo])\n",
    "combined_train.extend(orca_dpo_processed[:N_orca_dpo])\n",
    "combined_train.extend(code_vulnerability_processed[:N_code_vulnerability])\n",
    "combined_train.extend(py_dpo_processed[:N_py_dpo])\n",
    "combined_train.extend(harmony_processed[:N_harmony])\n",
    "combined_train.extend(untoxic_processed[:N_untoxic])\n",
    "combined_train.extend(exp_dpo_processed[:N_exp_dpo_3])\n",
    "\n",
    "random.shuffle(combined_train)\n",
    "\n",
    "print(\"Number of samples in combined_train:\", len(combined_train))"
   ],
   "metadata": {
    "collapsed": false,
    "ExecuteTime": {
     "end_time": "2024-06-01T13:01:17.239325Z",
     "start_time": "2024-06-01T13:01:16.916326Z"
    }
   },
   "id": "1e5b2068f522bce2",
   "execution_count": 44
  },
  {
   "cell_type": "code",
   "outputs": [],
   "source": [
    "for sample in combined_train:\n",
    "    # checks if the format is correct\n",
    "    if not \"instruction\" in sample: \n",
    "        print(sample)\n",
    "    if not \"input\" in sample:\n",
    "        print(sample)\n",
    "    if not \"chosen\" in sample:\n",
    "        print(sample)\n",
    "    if not \"rejected\" in sample:\n",
    "        print(sample)\n",
    "        \n",
    "\n",
    "import pyarrow as pa  \n",
    "def read_jsonl_with_pyarrow(file_path):\n",
    "    try: \n",
    "        table = pa.json.read_json(file_path)\n",
    "        return \"File is in correct format\"\n",
    "    except pa.ArrowInvalid as e:\n",
    "        return e"
   ],
   "metadata": {
    "collapsed": false,
    "ExecuteTime": {
     "end_time": "2024-06-01T13:01:17.271349Z",
     "start_time": "2024-06-01T13:01:17.242326Z"
    }
   },
   "id": "7f7b56df086b3793",
   "execution_count": 45
  },
  {
   "cell_type": "code",
   "outputs": [],
   "source": [
    "convert_to_jsonl(combined_train, \"DPO_dataset_tiny.jsonl\")"
   ],
   "metadata": {
    "collapsed": false,
    "ExecuteTime": {
     "end_time": "2024-06-01T13:01:17.863320Z",
     "start_time": "2024-06-01T13:01:17.275324Z"
    }
   },
   "id": "f0803f0616182b9c",
   "execution_count": 46
  },
  {
   "cell_type": "code",
   "outputs": [
    {
     "data": {
      "text/plain": "'File is in correct format'"
     },
     "execution_count": 47,
     "metadata": {},
     "output_type": "execute_result"
    }
   ],
   "source": [
    "read_jsonl_with_pyarrow(\"DPO_dataset_tiny.jsonl\")"
   ],
   "metadata": {
    "collapsed": false,
    "ExecuteTime": {
     "end_time": "2024-06-01T13:01:17.987322Z",
     "start_time": "2024-06-01T13:01:17.865321Z"
    }
   },
   "id": "e1a12b696429e17",
   "execution_count": 47
  },
  {
   "cell_type": "markdown",
   "source": [
    "# 4. Change the format of datasets"
   ],
   "metadata": {
    "collapsed": false
   },
   "id": "5e50185c42f74130"
  },
  {
   "cell_type": "code",
   "outputs": [],
   "source": [
    "# Open the DPO_dataset_tiny.jsonl file\n",
    "with jsonlines.open(\"DPO_dataset_tiny.jsonl\") as f:\n",
    "    data = [d for d in f]\n",
    "\n",
    "# change the 'instruction' key to 'prompt' and concatenate the input and prompt\n",
    "format_data = []\n",
    "for d in data:\n",
    "    if d[\"input\"] == \"\": \n",
    "        prompt = d[\"instruction\"]\n",
    "    else:\n",
    "        prompt = d[\"instruction\"] + \" \" + d[\"input\"]\n",
    "    format_d = {\"prompt\": prompt,\n",
    "                \"chosen\": d[\"chosen\"],\n",
    "                \"rejected\": d[\"rejected\"]}\n",
    "    format_data.append(format_d)\n",
    "    \n",
    "# Check the format of the data\n",
    "for d in format_data:\n",
    "    if not \"prompt\" in d:\n",
    "        print(d)\n",
    "    if not \"chosen\" in d:\n",
    "        print(d)\n",
    "    if not \"rejected\" in d:\n",
    "        print(d)"
   ],
   "metadata": {
    "collapsed": false,
    "ExecuteTime": {
     "end_time": "2024-06-01T13:13:13.593215Z",
     "start_time": "2024-06-01T13:13:13.053215Z"
    }
   },
   "id": "2015bdfe0da769ef",
   "execution_count": 57
  },
  {
   "cell_type": "code",
   "outputs": [],
   "source": [
    "# # change from list of dicts to dict of lists\n",
    "# def change_format(data):\n",
    "#     formatted_data = {\n",
    "#         \"instruction\": [],\n",
    "#         \"chosen\": [],\n",
    "#         \"rejected\": []\n",
    "#     }\n",
    "#     for d in data:\n",
    "#         formatted_data[\"instruction\"].append(d[\"instruction\"])\n",
    "#         formatted_data[\"chosen\"].append(d[\"chosen\"])\n",
    "#         formatted_data[\"rejected\"].append(d[\"rejected\"])\n",
    "#     return formatted_data"
   ],
   "metadata": {
    "collapsed": false,
    "ExecuteTime": {
     "end_time": "2024-06-01T13:01:18.034323Z",
     "start_time": "2024-06-01T13:01:18.022323Z"
    }
   },
   "id": "ce5e4ee9ea57d710",
   "execution_count": 49
  },
  {
   "cell_type": "code",
   "outputs": [],
   "source": [
    "# # Change the format of the datasets\n",
    "# formatted_combined_train = change_format(combined_train)\n",
    "# formatted_combined_val = change_format(combined_val)\n",
    "# formatted_combined_test = change_format(combined_test)\n",
    "# \n",
    "# # Save the formatted datasets\n",
    "# formatted_combined_train_file = \"datasets/combined_train_v2.json\"\n",
    "# formatted_combined_val_file = \"datasets/combined_val_v2.json\"\n",
    "# formatted_combined_test_file = \"datasets/combined_test_v2.json\"\n",
    "# \n",
    "# \n",
    "# def save_json(data, file_path):\n",
    "#     with open(file_path, \"w\") as f:\n",
    "#         json.dump(data, f)\n",
    "# \n",
    "# save_json(formatted_combined_train, formatted_combined_train_file)\n",
    "# save_json(formatted_combined_val, formatted_combined_val_file)\n",
    "# save_json(formatted_combined_test, formatted_combined_test_file)"
   ],
   "metadata": {
    "collapsed": false,
    "ExecuteTime": {
     "end_time": "2024-06-01T13:01:18.049327Z",
     "start_time": "2024-06-01T13:01:18.037326Z"
    }
   },
   "id": "5fd6a5cc1a00d10d",
   "execution_count": 50
  }
 ],
 "metadata": {
  "kernelspec": {
   "display_name": "Python 3",
   "language": "python",
   "name": "python3"
  },
  "language_info": {
   "codemirror_mode": {
    "name": "ipython",
    "version": 2
   },
   "file_extension": ".py",
   "mimetype": "text/x-python",
   "name": "python",
   "nbconvert_exporter": "python",
   "pygments_lexer": "ipython2",
   "version": "2.7.6"
  }
 },
 "nbformat": 4,
 "nbformat_minor": 5
}
