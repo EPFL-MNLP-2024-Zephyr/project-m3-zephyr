{
 "cells": [
  {
   "cell_type": "code",
   "execution_count": 1,
   "id": "initial_id",
   "metadata": {
    "collapsed": true,
    "ExecuteTime": {
     "end_time": "2024-05-31T15:35:35.130367Z",
     "start_time": "2024-05-31T15:35:32.278235Z"
    }
   },
   "outputs": [],
   "source": [
    "from datasets import load_dataset\n",
    "import pandas as pd\n",
    "import json\n",
    "import random"
   ]
  },
  {
   "cell_type": "markdown",
   "source": [
    "- [khan academy](https://huggingface.co/datasets/HuggingFaceTB/cosmopedia)\n",
    "- [math collge](https://huggingface.co/datasets/loubnabnl/math_college?row=36)\n",
    "- [ArXiV math](https://huggingface.co/datasets/ArtifactAI/arxiv-math-instruct-50k?library=true)\n",
    "- [magicoder](https://huggingface.co/datasets/ise-uiuc/Magicoder-OSS-Instruct-75K)\n",
    "- [algebra](https://huggingface.co/datasets/tiedong/goat)\n",
    "- [meta_math](https://huggingface.co/datasets/meta-math/MetaMathQA)\n",
    "- [code_assistant](https://huggingface.co/datasets/glaiveai/glaive-code-assistant)\n",
    "- [lima](https://huggingface.co/datasets/GAIR/lima?row=1&library=true)\n",
    "- [open_platypus](https://huggingface.co/datasets/garage-bAInd/Open-Platypus?library=true)\n",
    "- [mathinstruct](https://huggingface.co/datasets/TIGER-Lab/MathInstruct)"
   ],
   "metadata": {
    "collapsed": false
   },
   "id": "d2edbb0772c7ca33"
  },
  {
   "cell_type": "code",
   "outputs": [
    {
     "data": {
      "text/plain": "Resolving data files:   0%|          | 0/18 [00:00<?, ?it/s]",
      "application/vnd.jupyter.widget-view+json": {
       "version_major": 2,
       "version_minor": 0,
       "model_id": "034daf22390c40db859cc016776f2551"
      }
     },
     "metadata": {},
     "output_type": "display_data"
    },
    {
     "name": "stdout",
     "output_type": "stream",
     "text": [
      "khan_academy loaded\n",
      "college_math loaded\n",
      "arxiv_math loaded\n"
     ]
    }
   ],
   "source": [
    "khan_academy = load_dataset(\"HuggingFaceTB/cosmopedia\", \"khanacademy\", split=\"train\")\n",
    "print(\"khan_academy loaded\")\n",
    "\n",
    "college_math = load_dataset(\"loubnabnl/math_college\")\n",
    "print(\"college_math loaded\")\n",
    "\n",
    "arxiv_math = load_dataset(\"ArtifactAI/arxiv-math-instruct-50k\")\n",
    "print(\"arxiv_math loaded\")"
   ],
   "metadata": {
    "collapsed": false,
    "ExecuteTime": {
     "end_time": "2024-05-31T15:35:55.247148Z",
     "start_time": "2024-05-31T15:35:35.135370Z"
    }
   },
   "id": "723967c7ad5376d",
   "execution_count": 2
  },
  {
   "cell_type": "code",
   "outputs": [
    {
     "name": "stdout",
     "output_type": "stream",
     "text": [
      "code_assistant loaded\n",
      "meta_math loaded\n",
      "magicoder loaded\n"
     ]
    }
   ],
   "source": [
    "code_assistant = load_dataset(\"glaiveai/glaive-code-assistant\")\n",
    "print(\"code_assistant loaded\")\n",
    "\n",
    "meta_math = load_dataset(\"meta-math/MetaMathQA\")\n",
    "print(\"meta_math loaded\")\n",
    "\n",
    "magicoder = load_dataset(\"ise-uiuc/Magicoder-OSS-Instruct-75K\")\n",
    "print(\"magicoder loaded\")"
   ],
   "metadata": {
    "collapsed": false,
    "ExecuteTime": {
     "end_time": "2024-05-31T15:36:10.497996Z",
     "start_time": "2024-05-31T15:35:55.249145Z"
    }
   },
   "id": "c591efec1cb776ce",
   "execution_count": 3
  },
  {
   "cell_type": "code",
   "outputs": [
    {
     "name": "stdout",
     "output_type": "stream",
     "text": [
      "algebra loaded\n"
     ]
    }
   ],
   "source": [
    "algebra = load_dataset(\"tiedong/goat\")\n",
    "print(\"algebra loaded\")"
   ],
   "metadata": {
    "collapsed": false,
    "ExecuteTime": {
     "end_time": "2024-05-31T15:36:16.061669Z",
     "start_time": "2024-05-31T15:36:10.499997Z"
    }
   },
   "id": "7dab1474a6e93e68",
   "execution_count": 4
  },
  {
   "cell_type": "code",
   "outputs": [
    {
     "name": "stdout",
     "output_type": "stream",
     "text": [
      "lima loaded\n"
     ]
    }
   ],
   "source": [
    "lima = load_dataset(\"GAIR/lima\")\n",
    "print(\"lima loaded\")"
   ],
   "metadata": {
    "collapsed": false,
    "ExecuteTime": {
     "end_time": "2024-05-31T15:36:21.234455Z",
     "start_time": "2024-05-31T15:36:16.063668Z"
    }
   },
   "id": "7f85869115cb7ee8",
   "execution_count": 5
  },
  {
   "cell_type": "code",
   "outputs": [
    {
     "name": "stdout",
     "output_type": "stream",
     "text": [
      "open_platypus loaded\n"
     ]
    }
   ],
   "source": [
    "open_platypus = load_dataset(\"garage-bAInd/Open-Platypus\")\n",
    "print(\"open_platypus loaded\")"
   ],
   "metadata": {
    "collapsed": false,
    "ExecuteTime": {
     "end_time": "2024-05-31T15:36:26.608040Z",
     "start_time": "2024-05-31T15:36:21.238456Z"
    }
   },
   "id": "64845665c529eb54",
   "execution_count": 6
  },
  {
   "cell_type": "code",
   "outputs": [
    {
     "name": "stdout",
     "output_type": "stream",
     "text": [
      "mathinstruct loaded\n"
     ]
    }
   ],
   "source": [
    "mathinstruct = load_dataset(\"TIGER-Lab/MathInstruct\")\n",
    "print(\"mathinstruct loaded\")"
   ],
   "metadata": {
    "collapsed": false,
    "ExecuteTime": {
     "end_time": "2024-05-31T15:36:31.560079Z",
     "start_time": "2024-05-31T15:36:26.611043Z"
    }
   },
   "id": "ffb7baddc5fc1373",
   "execution_count": 7
  },
  {
   "cell_type": "code",
   "outputs": [],
   "source": [
    "df_khan_academy = pd.DataFrame(khan_academy)\n",
    "df_college_math = pd.DataFrame(college_math)\n",
    "df_arxiv_math = pd.DataFrame(arxiv_math)\n",
    "df_code_assistant = pd.DataFrame(code_assistant)\n",
    "df_meta_math = pd.DataFrame(meta_math)\n",
    "df_magicoder = pd.DataFrame(magicoder)\n",
    "df_algebra = pd.DataFrame(algebra)\n",
    "df_lima_train = pd.DataFrame(lima['train'])\n",
    "df_lima_test = pd.DataFrame(lima['test'])\n",
    "df_open_platypus = pd.DataFrame(open_platypus)\n",
    "df_mathinstruct = pd.DataFrame(mathinstruct)"
   ],
   "metadata": {
    "collapsed": false,
    "ExecuteTime": {
     "end_time": "2024-05-31T15:39:37.467130Z",
     "start_time": "2024-05-31T15:36:31.562042Z"
    }
   },
   "id": "ecd928b60e1cd75c",
   "execution_count": 8
  },
  {
   "cell_type": "code",
   "outputs": [],
   "source": [
    "def save_jsonl(dataset, filename):\n",
    "    with open(filename, \"w\") as f:\n",
    "        for d in dataset:\n",
    "            f.write(json.dumps(d) + \"\\n\")"
   ],
   "metadata": {
    "collapsed": false,
    "ExecuteTime": {
     "end_time": "2024-05-31T15:39:37.483130Z",
     "start_time": "2024-05-31T15:39:37.470131Z"
    }
   },
   "id": "125e8b482076e4a9",
   "execution_count": 9
  },
  {
   "cell_type": "code",
   "outputs": [
    {
     "name": "stdout",
     "output_type": "stream",
     "text": [
      "Number of examples in khan_academy: 24123\n"
     ]
    }
   ],
   "source": [
    "def process_khan(df):\n",
    "    dataset = []\n",
    "    for i in range(len(df)):\n",
    "        d = {\"instruction\": df[\"prompt\"][i], \"input\": \"\", \"output\": df[\"text\"][i]}\n",
    "        dataset.append(d)\n",
    "    return dataset\n",
    "\n",
    "khan_academy_dataset = process_khan(df_khan_academy)\n",
    "save_jsonl(khan_academy_dataset, \"khan_academy.jsonl\")\n",
    "\n",
    "print(\"Number of examples in khan_academy:\", len(khan_academy_dataset))"
   ],
   "metadata": {
    "collapsed": false,
    "ExecuteTime": {
     "end_time": "2024-05-31T15:39:40.202133Z",
     "start_time": "2024-05-31T15:39:37.486132Z"
    }
   },
   "id": "9629156883955997",
   "execution_count": 10
  },
  {
   "cell_type": "code",
   "outputs": [
    {
     "name": "stdout",
     "output_type": "stream",
     "text": [
      "Number of examples in college_math: 5000\n"
     ]
    }
   ],
   "source": [
    "def process_college_math(df):\n",
    "    dataset = []\n",
    "    for i in range(len(df)):\n",
    "        d = {\"instruction\": df[i][\"prompt_college\"], \"input\": \"\", \"output\": df[i][\"completion\"]}\n",
    "        dataset.append(d)\n",
    "    return dataset\n",
    "\n",
    "college_math_dataset = process_college_math(df_college_math['train'])\n",
    "save_jsonl(college_math_dataset, \"college_math.jsonl\")\n",
    "\n",
    "for sample_list, sample_df in zip(college_math_dataset, df_college_math[\"train\"]):\n",
    "    if sample_list[\"instruction\"] != sample_df[\"prompt_college\"]:\n",
    "        print(sample_list[\"instruction\"])\n",
    "        print(sample_df[\"prompt_college\"])\n",
    "        print(\"----\")\n",
    "    \n",
    "    if sample_list[\"output\"] != sample_df[\"completion\"]:\n",
    "        print(sample_list[\"output\"])\n",
    "        print(sample_df[\"completion\"])\n",
    "        print(\"----\")\n",
    "        \n",
    "print(\"Number of examples in college_math:\", len(college_math_dataset))"
   ],
   "metadata": {
    "collapsed": false,
    "ExecuteTime": {
     "end_time": "2024-05-31T15:39:40.748132Z",
     "start_time": "2024-05-31T15:39:40.205131Z"
    }
   },
   "id": "e997c6ed3481d999",
   "execution_count": 11
  },
  {
   "cell_type": "code",
   "outputs": [
    {
     "name": "stdout",
     "output_type": "stream",
     "text": [
      "Number of examples in arxiv_math: 50488\n"
     ]
    }
   ],
   "source": [
    "def process_qa_pairs(df):\n",
    "    dataset = []\n",
    "    for i in range(len(df)):\n",
    "        d = {\"instruction\": df[i][\"question\"], \"input\": \"\", \"output\": df[i][\"answer\"]}\n",
    "        dataset.append(d)\n",
    "    return dataset\n",
    "\n",
    "arxiv_math_dataset = process_qa_pairs(df_arxiv_math['train'])\n",
    "save_jsonl(arxiv_math_dataset, \"arxiv_math.jsonl\")\n",
    "\n",
    "for sample_list, sample_df in zip(arxiv_math_dataset, df_arxiv_math[\"train\"]):\n",
    "    if sample_list[\"instruction\"] != sample_df[\"question\"]:\n",
    "        print(sample_list[\"instruction\"])\n",
    "        print(sample_df[\"question\"])\n",
    "        print(\"----\")\n",
    "    \n",
    "    if sample_list[\"output\"] != sample_df[\"answer\"]:\n",
    "        print(sample_list[\"output\"])\n",
    "        print(sample_df[\"answer\"])\n",
    "        print(\"----\")\n",
    "        \n",
    "print(\"Number of examples in arxiv_math:\", len(arxiv_math_dataset))"
   ],
   "metadata": {
    "collapsed": false,
    "ExecuteTime": {
     "end_time": "2024-05-31T15:39:42.036130Z",
     "start_time": "2024-05-31T15:39:40.751133Z"
    }
   },
   "id": "1782ef916db7e3f0",
   "execution_count": 12
  },
  {
   "cell_type": "code",
   "outputs": [
    {
     "name": "stdout",
     "output_type": "stream",
     "text": [
      "Number of examples in code_assistant: 136109\n"
     ]
    }
   ],
   "source": [
    "code_assistant_dataset = process_qa_pairs(df_code_assistant['train'])\n",
    "save_jsonl(code_assistant_dataset, \"code_assistant.jsonl\")\n",
    "\n",
    "for sample_list, sample_df in zip(code_assistant_dataset, df_code_assistant[\"train\"]):\n",
    "    if sample_list[\"instruction\"] != sample_df[\"question\"]:\n",
    "        print(sample_list[\"instruction\"])\n",
    "        print(sample_df[\"question\"])\n",
    "        print(\"----\")\n",
    "    \n",
    "    if sample_list[\"output\"] != sample_df[\"answer\"]:\n",
    "        print(sample_list[\"output\"])\n",
    "        print(sample_df[\"answer\"])\n",
    "        print(\"----\")\n",
    "        \n",
    "print(\"Number of examples in code_assistant:\", len(code_assistant_dataset))"
   ],
   "metadata": {
    "collapsed": false,
    "ExecuteTime": {
     "end_time": "2024-05-31T15:39:47.518375Z",
     "start_time": "2024-05-31T15:39:42.039131Z"
    }
   },
   "id": "e9d0c6fdb4df8a37",
   "execution_count": 13
  },
  {
   "cell_type": "code",
   "outputs": [
    {
     "name": "stdout",
     "output_type": "stream",
     "text": [
      "Number of examples in meta_math: 395000\n"
     ]
    }
   ],
   "source": [
    "def process_meta_math(df):\n",
    "    dataset = []\n",
    "    for i in range(len(df)):\n",
    "        d = {\"instruction\": df[i][\"query\"], \"input\": \"\", \"output\": df[i][\"response\"]}\n",
    "        dataset.append(d)\n",
    "    return dataset\n",
    "\n",
    "meta_math_dataset = process_meta_math(df_meta_math['train'])\n",
    "save_jsonl(meta_math_dataset, \"meta_math.jsonl\")\n",
    "\n",
    "for sample_list, sample_df in zip(meta_math_dataset, df_meta_math[\"train\"]):\n",
    "    if sample_list[\"instruction\"] != sample_df[\"query\"]:\n",
    "        print(sample_list[\"instruction\"])\n",
    "        print(sample_df[\"query\"])\n",
    "        print(\"----\")\n",
    "    \n",
    "    if sample_list[\"output\"] != sample_df[\"response\"]:\n",
    "        print(sample_list[\"output\"])\n",
    "        print(sample_df[\"response\"])\n",
    "        print(\"----\")\n",
    "        \n",
    "print(\"Number of examples in meta_math:\", len(meta_math_dataset))"
   ],
   "metadata": {
    "collapsed": false,
    "ExecuteTime": {
     "end_time": "2024-05-31T15:39:57.665129Z",
     "start_time": "2024-05-31T15:39:47.520131Z"
    }
   },
   "id": "471378131bdd96b6",
   "execution_count": 14
  },
  {
   "cell_type": "code",
   "outputs": [
    {
     "name": "stdout",
     "output_type": "stream",
     "text": [
      "Number of examples in magicoder: 75197\n"
     ]
    }
   ],
   "source": [
    "def process_magicoder(df):\n",
    "    dataset = []\n",
    "    for i in range(len(df)):\n",
    "        d = {\"instruction\": df[i][\"problem\"], \"input\": \"\", \"output\": df[i][\"solution\"]}\n",
    "        dataset.append(d)\n",
    "    return dataset\n",
    "\n",
    "magicoder_dataset = process_magicoder(df_magicoder['train'])\n",
    "save_jsonl(magicoder_dataset, \"magicoder.jsonl\")\n",
    "\n",
    "for sample_list, sample_df in zip(magicoder_dataset, df_magicoder[\"train\"]):\n",
    "    if sample_list[\"instruction\"] != sample_df[\"problem\"]:\n",
    "        print(sample_list[\"instruction\"])\n",
    "        print(sample_df[\"problem\"])\n",
    "        print(\"----\")\n",
    "    \n",
    "    if sample_list[\"output\"] != sample_df[\"solution\"]:\n",
    "        print(sample_list[\"output\"])\n",
    "        print(sample_df[\"solution\"])\n",
    "        print(\"----\")\n",
    "        \n",
    "print(\"Number of examples in magicoder:\", len(magicoder_dataset))"
   ],
   "metadata": {
    "collapsed": false,
    "ExecuteTime": {
     "end_time": "2024-05-31T15:40:01.661130Z",
     "start_time": "2024-05-31T15:39:57.668133Z"
    }
   },
   "id": "33e6e8261da97eb6",
   "execution_count": 15
  },
  {
   "cell_type": "code",
   "outputs": [
    {
     "name": "stdout",
     "output_type": "stream",
     "text": [
      "Number of examples in algebra: 1746300\n"
     ]
    }
   ],
   "source": [
    "def process_algebra(df):\n",
    "    dataset = []\n",
    "    for i in range(len(df)):\n",
    "        d = {\"instruction\": df[i][\"instruction\"], \"input\": \"\", \"output\": df[i][\"output\"]}\n",
    "        dataset.append(d)\n",
    "    return dataset\n",
    "\n",
    "algebra_dataset = process_algebra(df_algebra['train'])\n",
    "save_jsonl(algebra_dataset, \"algebra.jsonl\")\n",
    "\n",
    "for sample_list, sample_df in zip(algebra_dataset, df_algebra[\"train\"]):\n",
    "    if sample_list[\"instruction\"] != sample_df[\"instruction\"]:\n",
    "        print(sample_list[\"instruction\"])\n",
    "        print(sample_df[\"instruction\"])\n",
    "        print(\"----\")\n",
    "    \n",
    "    if sample_list[\"output\"] != sample_df[\"output\"]:\n",
    "        print(sample_list[\"output\"])\n",
    "        print(sample_df[\"output\"])\n",
    "        print(\"----\")\n",
    "        \n",
    "print(\"Number of examples in algebra:\", len(algebra_dataset))"
   ],
   "metadata": {
    "collapsed": false,
    "ExecuteTime": {
     "end_time": "2024-05-31T15:40:29.827959Z",
     "start_time": "2024-05-31T15:40:01.663131Z"
    }
   },
   "id": "b7f850b396e9c3fb",
   "execution_count": 16
  },
  {
   "cell_type": "code",
   "outputs": [
    {
     "name": "stdout",
     "output_type": "stream",
     "text": [
      "Number of examples in lima_train: 1030\n"
     ]
    }
   ],
   "source": [
    "def process_lima(df):\n",
    "    dataset = []\n",
    "    for sample in df:\n",
    "        d = {\"instruction\": sample[0], \"input\": \"\", \"output\": sample[1]}\n",
    "        dataset.append(d)   \n",
    "    return dataset\n",
    "\n",
    "lima_train_dataset = process_lima(df_lima_train[\"conversations\"])\n",
    "save_jsonl(lima_train_dataset, \"lima_train.jsonl\")\n",
    "\n",
    "for sample_list, sample_df in zip(lima_train_dataset, df_lima_train[\"conversations\"]):\n",
    "    if sample_list[\"instruction\"] != sample_df[0]:\n",
    "        print(sample_list[\"instruction\"])\n",
    "        print(sample_df[0])\n",
    "        print(\"----\")  \n",
    "    if sample_list[\"output\"] != sample_df[1]:\n",
    "        print(sample_list[\"output\"])\n",
    "        print(sample_df[1])\n",
    "        print(\"----\")\n",
    "    \n",
    "print(\"Number of examples in lima_train:\", len(lima_train_dataset))"
   ],
   "metadata": {
    "collapsed": false,
    "ExecuteTime": {
     "end_time": "2024-05-31T15:40:29.906720Z",
     "start_time": "2024-05-31T15:40:29.829778Z"
    }
   },
   "id": "c230c057e7f06e77",
   "execution_count": 17
  },
  {
   "cell_type": "code",
   "outputs": [
    {
     "name": "stdout",
     "output_type": "stream",
     "text": [
      "Number of examples in open_platypus: 24926\n"
     ]
    }
   ],
   "source": [
    "def process_instruction_output(df):\n",
    "    dataset = []\n",
    "    for sample in df:\n",
    "        d = {\"instruction\": sample[\"instruction\"], \"input\": \"\", \"output\": sample[\"output\"]}\n",
    "        dataset.append(d)\n",
    "    return dataset\n",
    "\n",
    "open_platypus_dataset = process_instruction_output(df_open_platypus[\"train\"])\n",
    "save_jsonl(open_platypus_dataset, \"open_platypus.jsonl\")\n",
    "\n",
    "for sample_list, sample_df in zip(open_platypus_dataset, df_open_platypus[\"train\"]):\n",
    "    if sample_list[\"instruction\"] != sample_df[\"instruction\"]:\n",
    "        print(sample_list[\"instruction\"])\n",
    "        print(sample_df[\"instruction\"])\n",
    "        print(\"----\")  \n",
    "    if sample_list[\"output\"] != sample_df[\"output\"]:\n",
    "        print(sample_list[\"output\"])\n",
    "        print(sample_df[\"output\"])\n",
    "        print(\"----\")\n",
    "        \n",
    "print(\"Number of examples in open_platypus:\", len(open_platypus_dataset))"
   ],
   "metadata": {
    "collapsed": false,
    "ExecuteTime": {
     "end_time": "2024-05-31T15:40:30.590753Z",
     "start_time": "2024-05-31T15:40:29.913723Z"
    }
   },
   "id": "cd7e1f7733da0a7a",
   "execution_count": 18
  },
  {
   "cell_type": "code",
   "outputs": [
    {
     "name": "stdout",
     "output_type": "stream",
     "text": [
      "Number of examples in mathinstruct: 262039\n"
     ]
    }
   ],
   "source": [
    "mathinstruct_dataset = process_instruction_output(df_mathinstruct[\"train\"])\n",
    "save_jsonl(mathinstruct_dataset, \"mathinstruct.jsonl\")\n",
    "\n",
    "for sample_list, sample_df in zip(mathinstruct_dataset, df_mathinstruct[\"train\"]):\n",
    "    if sample_list[\"instruction\"] != sample_df[\"instruction\"]:\n",
    "        print(sample_list[\"instruction\"])\n",
    "        print(sample_df[\"instruction\"])\n",
    "        print(\"----\")  \n",
    "    if sample_list[\"output\"] != sample_df[\"output\"]:\n",
    "        print(sample_list[\"output\"])\n",
    "        print(sample_df[\"output\"])\n",
    "        print(\"----\")\n",
    "        \n",
    "print(\"Number of examples in mathinstruct:\", len(mathinstruct_dataset))"
   ],
   "metadata": {
    "collapsed": false,
    "ExecuteTime": {
     "end_time": "2024-05-31T15:40:35.607055Z",
     "start_time": "2024-05-31T15:40:30.592721Z"
    }
   },
   "id": "fcf76590f93c8110",
   "execution_count": 19
  },
  {
   "cell_type": "markdown",
   "source": [
    "Dataset format: list of dictionaries with 3 keys: instruction, input, output\n",
    "\n",
    "```json\n",
    "[\n",
    "    {\n",
    "        \"instruction\": \"instruction text\",\n",
    "        \"input\": \"input text\", # optional\n",
    "        \"output\": \"output text\"\n",
    "    },\n",
    "    {\n",
    "        \"instruction\": \"instruction text\",\n",
    "        \"input\": \"input text\", # optional\n",
    "        \"output\": \"output text\"\n",
    "    }\n",
    "]"
   ],
   "metadata": {
    "collapsed": false
   },
   "id": "3f89142b04fbb7f1"
  },
  {
   "cell_type": "code",
   "outputs": [
    {
     "name": "stdout",
     "output_type": "stream",
     "text": [
      "N_khan_academy: 12000\n",
      "N_college_math: 5000\n",
      "N_arxiv_math: 12000\n",
      "N_code_assistant: 12000\n",
      "N_meta_math: 12000\n",
      "N_magicoder: 12000\n",
      "N_algebra: 12000\n",
      "N_lima_train: 1030\n",
      "N_open_platypus: 12000\n",
      "N_mathinstruct: 12000\n"
     ]
    }
   ],
   "source": [
    "N_samples_per_dataset = 12000\n",
    "\n",
    "N_khan_academy = min(N_samples_per_dataset, len(khan_academy_dataset))\n",
    "N_college_math = min(N_samples_per_dataset, len(college_math_dataset))\n",
    "N_arxiv_math = min(N_samples_per_dataset, len(arxiv_math_dataset))\n",
    "N_code_assistant = min(N_samples_per_dataset, len(code_assistant_dataset))\n",
    "N_meta_math = min(N_samples_per_dataset, len(meta_math_dataset))\n",
    "N_magicoder = min(N_samples_per_dataset, len(magicoder_dataset))\n",
    "N_algebra = min(N_samples_per_dataset, len(algebra_dataset))\n",
    "N_lima_train = min(N_samples_per_dataset, len(lima_train_dataset))\n",
    "N_open_platypus = min(N_samples_per_dataset, len(open_platypus_dataset))\n",
    "N_mathinstruct = min(N_samples_per_dataset, len(mathinstruct_dataset))\n",
    "\n",
    "print(\"N_khan_academy:\", N_khan_academy)\n",
    "print(\"N_college_math:\", N_college_math)\n",
    "print(\"N_arxiv_math:\", N_arxiv_math)\n",
    "print(\"N_code_assistant:\", N_code_assistant)\n",
    "print(\"N_meta_math:\", N_meta_math)\n",
    "print(\"N_magicoder:\", N_magicoder)\n",
    "print(\"N_algebra:\", N_algebra)\n",
    "print(\"N_lima_train:\", N_lima_train)\n",
    "print(\"N_open_platypus:\", N_open_platypus)\n",
    "print(\"N_mathinstruct:\", N_mathinstruct)"
   ],
   "metadata": {
    "collapsed": false,
    "ExecuteTime": {
     "end_time": "2024-05-31T15:40:35.622725Z",
     "start_time": "2024-05-31T15:40:35.609720Z"
    }
   },
   "id": "e598e6bee79664fe",
   "execution_count": 20
  },
  {
   "cell_type": "code",
   "outputs": [],
   "source": [
    "random.seed(42)\n",
    "random.shuffle(khan_academy_dataset)\n",
    "random.shuffle(college_math_dataset)\n",
    "random.shuffle(arxiv_math_dataset)\n",
    "random.shuffle(code_assistant_dataset)\n",
    "random.shuffle(meta_math_dataset)\n",
    "random.shuffle(magicoder_dataset)\n",
    "random.shuffle(algebra_dataset)\n",
    "random.shuffle(lima_train_dataset)\n",
    "random.shuffle(open_platypus_dataset)\n",
    "random.shuffle(mathinstruct_dataset)"
   ],
   "metadata": {
    "collapsed": false,
    "ExecuteTime": {
     "end_time": "2024-05-31T15:40:37.836932Z",
     "start_time": "2024-05-31T15:40:35.624724Z"
    }
   },
   "id": "f738646c11caacfa",
   "execution_count": 21
  },
  {
   "cell_type": "code",
   "outputs": [
    {
     "name": "stdout",
     "output_type": "stream",
     "text": [
      "Number of examples in full_dataset: 102030\n"
     ]
    }
   ],
   "source": [
    "full_dataset = []\n",
    "full_dataset.extend(khan_academy_dataset[:N_khan_academy])\n",
    "full_dataset.extend(college_math_dataset[:N_college_math])\n",
    "full_dataset.extend(arxiv_math_dataset[:N_arxiv_math])\n",
    "full_dataset.extend(code_assistant_dataset[:N_code_assistant])\n",
    "full_dataset.extend(meta_math_dataset[:N_meta_math])\n",
    "full_dataset.extend(magicoder_dataset[:N_magicoder])\n",
    "full_dataset.extend(algebra_dataset[:N_algebra])\n",
    "full_dataset.extend(lima_train_dataset[:N_lima_train])\n",
    "full_dataset.extend(open_platypus_dataset[:N_open_platypus])\n",
    "full_dataset.extend(mathinstruct_dataset[:N_mathinstruct])\n",
    "random.shuffle(full_dataset)\n",
    "\n",
    "save_jsonl(full_dataset, \"SFT_Dataset.jsonl\")\n",
    "\n",
    "print(\"Number of examples in full_dataset:\", len(full_dataset))"
   ],
   "metadata": {
    "collapsed": false,
    "ExecuteTime": {
     "end_time": "2024-05-31T15:40:43.012942Z",
     "start_time": "2024-05-31T15:40:37.839719Z"
    }
   },
   "id": "833385784902ed00",
   "execution_count": 22
  },
  {
   "cell_type": "code",
   "outputs": [
    {
     "name": "stdout",
     "output_type": "stream",
     "text": [
      "Full dataset format is correct\n"
     ]
    }
   ],
   "source": [
    "# Test if the format of the full dataset is correct\n",
    "with open(\"SFT_Dataset.jsonl\", \"r\") as f:\n",
    "    for line in f:\n",
    "        d = json.loads(line)\n",
    "        if \"instruction\" not in d:\n",
    "            print(\"instruction not found\")\n",
    "        if \"output\" not in d:\n",
    "            print(\"output not found\")\n",
    "        if \"input\" not in d:\n",
    "            print(\"input not found\")\n",
    "\n",
    "print(\"Full dataset format is correct\")"
   ],
   "metadata": {
    "collapsed": false,
    "ExecuteTime": {
     "end_time": "2024-05-31T15:46:33.864257Z",
     "start_time": "2024-05-31T15:46:29.847256Z"
    }
   },
   "id": "21a952eb77da962d",
   "execution_count": 24
  },
  {
   "cell_type": "code",
   "outputs": [],
   "source": [],
   "metadata": {
    "collapsed": false
   },
   "id": "55bd914dd5c9cfd4"
  }
 ],
 "metadata": {
  "kernelspec": {
   "display_name": "Python 3",
   "language": "python",
   "name": "python3"
  },
  "language_info": {
   "codemirror_mode": {
    "name": "ipython",
    "version": 2
   },
   "file_extension": ".py",
   "mimetype": "text/x-python",
   "name": "python",
   "nbconvert_exporter": "python",
   "pygments_lexer": "ipython2",
   "version": "2.7.6"
  }
 },
 "nbformat": 4,
 "nbformat_minor": 5
}
